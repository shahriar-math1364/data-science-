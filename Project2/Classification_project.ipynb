{
  "nbformat": 4,
  "nbformat_minor": 0,
  "metadata": {
    "colab": {
      "provenance": []
    },
    "kernelspec": {
      "name": "python3",
      "display_name": "Python 3"
    },
    "language_info": {
      "name": "python"
    }
  },
  "cells": [
    {
      "cell_type": "code",
      "execution_count": null,
      "metadata": {
        "id": "dj4PXlgruMkh"
      },
      "outputs": [],
      "source": [
        " import pandas as pd"
      ]
    },
    {
      "cell_type": "code",
      "source": [
        "path=\"/content/drive/MyDrive/Colab Notebooks/Sleep.csv\"\n"
      ],
      "metadata": {
        "id": "tgm6MZDYuSXu"
      },
      "execution_count": null,
      "outputs": []
    },
    {
      "cell_type": "code",
      "source": [
        "d=pd.read_csv(path)"
      ],
      "metadata": {
        "id": "j2BHt2LauW8B"
      },
      "execution_count": null,
      "outputs": []
    },
    {
      "cell_type": "code",
      "source": [
        "from google.colab import drive\n",
        "drive.mount('/content/drive')"
      ],
      "metadata": {
        "colab": {
          "base_uri": "https://localhost:8080/"
        },
        "id": "b_u_I7R-9YNd",
        "outputId": "96c80b41-a65e-42d2-8f6a-bc81283c3936"
      },
      "execution_count": null,
      "outputs": [
        {
          "output_type": "stream",
          "name": "stdout",
          "text": [
            "Drive already mounted at /content/drive; to attempt to forcibly remount, call drive.mount(\"/content/drive\", force_remount=True).\n"
          ]
        }
      ]
    },
    {
      "cell_type": "code",
      "source": [
        "d"
      ],
      "metadata": {
        "colab": {
          "base_uri": "https://localhost:8080/",
          "height": 597
        },
        "id": "5sBfPLKZubbn",
        "outputId": "28f9627a-6592-4a1d-aab9-9dc097f375e6"
      },
      "execution_count": null,
      "outputs": [
        {
          "output_type": "execute_result",
          "data": {
            "text/plain": [
              "     Person ID  Gender  Age            Occupation  Sleep Duration  \\\n",
              "0            1    Male   27     Software Engineer             6.1   \n",
              "1            2    Male   28                Doctor             6.2   \n",
              "2            3    Male   28                Doctor             6.2   \n",
              "3            4    Male   28  Sales Representative             5.9   \n",
              "4            5    Male   28  Sales Representative             5.9   \n",
              "..         ...     ...  ...                   ...             ...   \n",
              "369        370  Female   59                 Nurse             8.1   \n",
              "370        371  Female   59                 Nurse             8.0   \n",
              "371        372  Female   59                 Nurse             8.1   \n",
              "372        373  Female   59                 Nurse             8.1   \n",
              "373        374  Female   59                 Nurse             8.1   \n",
              "\n",
              "     Quality of Sleep  Physical Activity Level  Stress Level BMI Category  \\\n",
              "0                   6                       42             6   Overweight   \n",
              "1                   6                       60             8       Normal   \n",
              "2                   6                       60             8       Normal   \n",
              "3                   4                       30             8        Obese   \n",
              "4                   4                       30             8        Obese   \n",
              "..                ...                      ...           ...          ...   \n",
              "369                 9                       75             3   Overweight   \n",
              "370                 9                       75             3   Overweight   \n",
              "371                 9                       75             3   Overweight   \n",
              "372                 9                       75             3   Overweight   \n",
              "373                 9                       75             3   Overweight   \n",
              "\n",
              "    Blood Pressure  Heart Rate  Daily Steps Sleep Disorder  \n",
              "0           126/83          77         4200           None  \n",
              "1           125/80          75        10000           None  \n",
              "2           125/80          75        10000           None  \n",
              "3           140/90          85         3000    Sleep Apnea  \n",
              "4           140/90          85         3000    Sleep Apnea  \n",
              "..             ...         ...          ...            ...  \n",
              "369         140/95          68         7000    Sleep Apnea  \n",
              "370         140/95          68         7000    Sleep Apnea  \n",
              "371         140/95          68         7000    Sleep Apnea  \n",
              "372         140/95          68         7000    Sleep Apnea  \n",
              "373         140/95          68         7000    Sleep Apnea  \n",
              "\n",
              "[374 rows x 13 columns]"
            ],
            "text/html": [
              "\n",
              "  <div id=\"df-c5530992-42ef-48d7-8490-5788018d65f8\" class=\"colab-df-container\">\n",
              "    <div>\n",
              "<style scoped>\n",
              "    .dataframe tbody tr th:only-of-type {\n",
              "        vertical-align: middle;\n",
              "    }\n",
              "\n",
              "    .dataframe tbody tr th {\n",
              "        vertical-align: top;\n",
              "    }\n",
              "\n",
              "    .dataframe thead th {\n",
              "        text-align: right;\n",
              "    }\n",
              "</style>\n",
              "<table border=\"1\" class=\"dataframe\">\n",
              "  <thead>\n",
              "    <tr style=\"text-align: right;\">\n",
              "      <th></th>\n",
              "      <th>Person ID</th>\n",
              "      <th>Gender</th>\n",
              "      <th>Age</th>\n",
              "      <th>Occupation</th>\n",
              "      <th>Sleep Duration</th>\n",
              "      <th>Quality of Sleep</th>\n",
              "      <th>Physical Activity Level</th>\n",
              "      <th>Stress Level</th>\n",
              "      <th>BMI Category</th>\n",
              "      <th>Blood Pressure</th>\n",
              "      <th>Heart Rate</th>\n",
              "      <th>Daily Steps</th>\n",
              "      <th>Sleep Disorder</th>\n",
              "    </tr>\n",
              "  </thead>\n",
              "  <tbody>\n",
              "    <tr>\n",
              "      <th>0</th>\n",
              "      <td>1</td>\n",
              "      <td>Male</td>\n",
              "      <td>27</td>\n",
              "      <td>Software Engineer</td>\n",
              "      <td>6.1</td>\n",
              "      <td>6</td>\n",
              "      <td>42</td>\n",
              "      <td>6</td>\n",
              "      <td>Overweight</td>\n",
              "      <td>126/83</td>\n",
              "      <td>77</td>\n",
              "      <td>4200</td>\n",
              "      <td>None</td>\n",
              "    </tr>\n",
              "    <tr>\n",
              "      <th>1</th>\n",
              "      <td>2</td>\n",
              "      <td>Male</td>\n",
              "      <td>28</td>\n",
              "      <td>Doctor</td>\n",
              "      <td>6.2</td>\n",
              "      <td>6</td>\n",
              "      <td>60</td>\n",
              "      <td>8</td>\n",
              "      <td>Normal</td>\n",
              "      <td>125/80</td>\n",
              "      <td>75</td>\n",
              "      <td>10000</td>\n",
              "      <td>None</td>\n",
              "    </tr>\n",
              "    <tr>\n",
              "      <th>2</th>\n",
              "      <td>3</td>\n",
              "      <td>Male</td>\n",
              "      <td>28</td>\n",
              "      <td>Doctor</td>\n",
              "      <td>6.2</td>\n",
              "      <td>6</td>\n",
              "      <td>60</td>\n",
              "      <td>8</td>\n",
              "      <td>Normal</td>\n",
              "      <td>125/80</td>\n",
              "      <td>75</td>\n",
              "      <td>10000</td>\n",
              "      <td>None</td>\n",
              "    </tr>\n",
              "    <tr>\n",
              "      <th>3</th>\n",
              "      <td>4</td>\n",
              "      <td>Male</td>\n",
              "      <td>28</td>\n",
              "      <td>Sales Representative</td>\n",
              "      <td>5.9</td>\n",
              "      <td>4</td>\n",
              "      <td>30</td>\n",
              "      <td>8</td>\n",
              "      <td>Obese</td>\n",
              "      <td>140/90</td>\n",
              "      <td>85</td>\n",
              "      <td>3000</td>\n",
              "      <td>Sleep Apnea</td>\n",
              "    </tr>\n",
              "    <tr>\n",
              "      <th>4</th>\n",
              "      <td>5</td>\n",
              "      <td>Male</td>\n",
              "      <td>28</td>\n",
              "      <td>Sales Representative</td>\n",
              "      <td>5.9</td>\n",
              "      <td>4</td>\n",
              "      <td>30</td>\n",
              "      <td>8</td>\n",
              "      <td>Obese</td>\n",
              "      <td>140/90</td>\n",
              "      <td>85</td>\n",
              "      <td>3000</td>\n",
              "      <td>Sleep Apnea</td>\n",
              "    </tr>\n",
              "    <tr>\n",
              "      <th>...</th>\n",
              "      <td>...</td>\n",
              "      <td>...</td>\n",
              "      <td>...</td>\n",
              "      <td>...</td>\n",
              "      <td>...</td>\n",
              "      <td>...</td>\n",
              "      <td>...</td>\n",
              "      <td>...</td>\n",
              "      <td>...</td>\n",
              "      <td>...</td>\n",
              "      <td>...</td>\n",
              "      <td>...</td>\n",
              "      <td>...</td>\n",
              "    </tr>\n",
              "    <tr>\n",
              "      <th>369</th>\n",
              "      <td>370</td>\n",
              "      <td>Female</td>\n",
              "      <td>59</td>\n",
              "      <td>Nurse</td>\n",
              "      <td>8.1</td>\n",
              "      <td>9</td>\n",
              "      <td>75</td>\n",
              "      <td>3</td>\n",
              "      <td>Overweight</td>\n",
              "      <td>140/95</td>\n",
              "      <td>68</td>\n",
              "      <td>7000</td>\n",
              "      <td>Sleep Apnea</td>\n",
              "    </tr>\n",
              "    <tr>\n",
              "      <th>370</th>\n",
              "      <td>371</td>\n",
              "      <td>Female</td>\n",
              "      <td>59</td>\n",
              "      <td>Nurse</td>\n",
              "      <td>8.0</td>\n",
              "      <td>9</td>\n",
              "      <td>75</td>\n",
              "      <td>3</td>\n",
              "      <td>Overweight</td>\n",
              "      <td>140/95</td>\n",
              "      <td>68</td>\n",
              "      <td>7000</td>\n",
              "      <td>Sleep Apnea</td>\n",
              "    </tr>\n",
              "    <tr>\n",
              "      <th>371</th>\n",
              "      <td>372</td>\n",
              "      <td>Female</td>\n",
              "      <td>59</td>\n",
              "      <td>Nurse</td>\n",
              "      <td>8.1</td>\n",
              "      <td>9</td>\n",
              "      <td>75</td>\n",
              "      <td>3</td>\n",
              "      <td>Overweight</td>\n",
              "      <td>140/95</td>\n",
              "      <td>68</td>\n",
              "      <td>7000</td>\n",
              "      <td>Sleep Apnea</td>\n",
              "    </tr>\n",
              "    <tr>\n",
              "      <th>372</th>\n",
              "      <td>373</td>\n",
              "      <td>Female</td>\n",
              "      <td>59</td>\n",
              "      <td>Nurse</td>\n",
              "      <td>8.1</td>\n",
              "      <td>9</td>\n",
              "      <td>75</td>\n",
              "      <td>3</td>\n",
              "      <td>Overweight</td>\n",
              "      <td>140/95</td>\n",
              "      <td>68</td>\n",
              "      <td>7000</td>\n",
              "      <td>Sleep Apnea</td>\n",
              "    </tr>\n",
              "    <tr>\n",
              "      <th>373</th>\n",
              "      <td>374</td>\n",
              "      <td>Female</td>\n",
              "      <td>59</td>\n",
              "      <td>Nurse</td>\n",
              "      <td>8.1</td>\n",
              "      <td>9</td>\n",
              "      <td>75</td>\n",
              "      <td>3</td>\n",
              "      <td>Overweight</td>\n",
              "      <td>140/95</td>\n",
              "      <td>68</td>\n",
              "      <td>7000</td>\n",
              "      <td>Sleep Apnea</td>\n",
              "    </tr>\n",
              "  </tbody>\n",
              "</table>\n",
              "<p>374 rows × 13 columns</p>\n",
              "</div>\n",
              "    <div class=\"colab-df-buttons\">\n",
              "\n",
              "  <div class=\"colab-df-container\">\n",
              "    <button class=\"colab-df-convert\" onclick=\"convertToInteractive('df-c5530992-42ef-48d7-8490-5788018d65f8')\"\n",
              "            title=\"Convert this dataframe to an interactive table.\"\n",
              "            style=\"display:none;\">\n",
              "\n",
              "  <svg xmlns=\"http://www.w3.org/2000/svg\" height=\"24px\" viewBox=\"0 -960 960 960\">\n",
              "    <path d=\"M120-120v-720h720v720H120Zm60-500h600v-160H180v160Zm220 220h160v-160H400v160Zm0 220h160v-160H400v160ZM180-400h160v-160H180v160Zm440 0h160v-160H620v160ZM180-180h160v-160H180v160Zm440 0h160v-160H620v160Z\"/>\n",
              "  </svg>\n",
              "    </button>\n",
              "\n",
              "  <style>\n",
              "    .colab-df-container {\n",
              "      display:flex;\n",
              "      gap: 12px;\n",
              "    }\n",
              "\n",
              "    .colab-df-convert {\n",
              "      background-color: #E8F0FE;\n",
              "      border: none;\n",
              "      border-radius: 50%;\n",
              "      cursor: pointer;\n",
              "      display: none;\n",
              "      fill: #1967D2;\n",
              "      height: 32px;\n",
              "      padding: 0 0 0 0;\n",
              "      width: 32px;\n",
              "    }\n",
              "\n",
              "    .colab-df-convert:hover {\n",
              "      background-color: #E2EBFA;\n",
              "      box-shadow: 0px 1px 2px rgba(60, 64, 67, 0.3), 0px 1px 3px 1px rgba(60, 64, 67, 0.15);\n",
              "      fill: #174EA6;\n",
              "    }\n",
              "\n",
              "    .colab-df-buttons div {\n",
              "      margin-bottom: 4px;\n",
              "    }\n",
              "\n",
              "    [theme=dark] .colab-df-convert {\n",
              "      background-color: #3B4455;\n",
              "      fill: #D2E3FC;\n",
              "    }\n",
              "\n",
              "    [theme=dark] .colab-df-convert:hover {\n",
              "      background-color: #434B5C;\n",
              "      box-shadow: 0px 1px 3px 1px rgba(0, 0, 0, 0.15);\n",
              "      filter: drop-shadow(0px 1px 2px rgba(0, 0, 0, 0.3));\n",
              "      fill: #FFFFFF;\n",
              "    }\n",
              "  </style>\n",
              "\n",
              "    <script>\n",
              "      const buttonEl =\n",
              "        document.querySelector('#df-c5530992-42ef-48d7-8490-5788018d65f8 button.colab-df-convert');\n",
              "      buttonEl.style.display =\n",
              "        google.colab.kernel.accessAllowed ? 'block' : 'none';\n",
              "\n",
              "      async function convertToInteractive(key) {\n",
              "        const element = document.querySelector('#df-c5530992-42ef-48d7-8490-5788018d65f8');\n",
              "        const dataTable =\n",
              "          await google.colab.kernel.invokeFunction('convertToInteractive',\n",
              "                                                    [key], {});\n",
              "        if (!dataTable) return;\n",
              "\n",
              "        const docLinkHtml = 'Like what you see? Visit the ' +\n",
              "          '<a target=\"_blank\" href=https://colab.research.google.com/notebooks/data_table.ipynb>data table notebook</a>'\n",
              "          + ' to learn more about interactive tables.';\n",
              "        element.innerHTML = '';\n",
              "        dataTable['output_type'] = 'display_data';\n",
              "        await google.colab.output.renderOutput(dataTable, element);\n",
              "        const docLink = document.createElement('div');\n",
              "        docLink.innerHTML = docLinkHtml;\n",
              "        element.appendChild(docLink);\n",
              "      }\n",
              "    </script>\n",
              "  </div>\n",
              "\n",
              "\n",
              "<div id=\"df-f3e7736f-d508-4d0a-80ba-144cb9fdbb83\">\n",
              "  <button class=\"colab-df-quickchart\" onclick=\"quickchart('df-f3e7736f-d508-4d0a-80ba-144cb9fdbb83')\"\n",
              "            title=\"Suggest charts.\"\n",
              "            style=\"display:none;\">\n",
              "\n",
              "<svg xmlns=\"http://www.w3.org/2000/svg\" height=\"24px\"viewBox=\"0 0 24 24\"\n",
              "     width=\"24px\">\n",
              "    <g>\n",
              "        <path d=\"M19 3H5c-1.1 0-2 .9-2 2v14c0 1.1.9 2 2 2h14c1.1 0 2-.9 2-2V5c0-1.1-.9-2-2-2zM9 17H7v-7h2v7zm4 0h-2V7h2v10zm4 0h-2v-4h2v4z\"/>\n",
              "    </g>\n",
              "</svg>\n",
              "  </button>\n",
              "\n",
              "<style>\n",
              "  .colab-df-quickchart {\n",
              "      --bg-color: #E8F0FE;\n",
              "      --fill-color: #1967D2;\n",
              "      --hover-bg-color: #E2EBFA;\n",
              "      --hover-fill-color: #174EA6;\n",
              "      --disabled-fill-color: #AAA;\n",
              "      --disabled-bg-color: #DDD;\n",
              "  }\n",
              "\n",
              "  [theme=dark] .colab-df-quickchart {\n",
              "      --bg-color: #3B4455;\n",
              "      --fill-color: #D2E3FC;\n",
              "      --hover-bg-color: #434B5C;\n",
              "      --hover-fill-color: #FFFFFF;\n",
              "      --disabled-bg-color: #3B4455;\n",
              "      --disabled-fill-color: #666;\n",
              "  }\n",
              "\n",
              "  .colab-df-quickchart {\n",
              "    background-color: var(--bg-color);\n",
              "    border: none;\n",
              "    border-radius: 50%;\n",
              "    cursor: pointer;\n",
              "    display: none;\n",
              "    fill: var(--fill-color);\n",
              "    height: 32px;\n",
              "    padding: 0;\n",
              "    width: 32px;\n",
              "  }\n",
              "\n",
              "  .colab-df-quickchart:hover {\n",
              "    background-color: var(--hover-bg-color);\n",
              "    box-shadow: 0 1px 2px rgba(60, 64, 67, 0.3), 0 1px 3px 1px rgba(60, 64, 67, 0.15);\n",
              "    fill: var(--button-hover-fill-color);\n",
              "  }\n",
              "\n",
              "  .colab-df-quickchart-complete:disabled,\n",
              "  .colab-df-quickchart-complete:disabled:hover {\n",
              "    background-color: var(--disabled-bg-color);\n",
              "    fill: var(--disabled-fill-color);\n",
              "    box-shadow: none;\n",
              "  }\n",
              "\n",
              "  .colab-df-spinner {\n",
              "    border: 2px solid var(--fill-color);\n",
              "    border-color: transparent;\n",
              "    border-bottom-color: var(--fill-color);\n",
              "    animation:\n",
              "      spin 1s steps(1) infinite;\n",
              "  }\n",
              "\n",
              "  @keyframes spin {\n",
              "    0% {\n",
              "      border-color: transparent;\n",
              "      border-bottom-color: var(--fill-color);\n",
              "      border-left-color: var(--fill-color);\n",
              "    }\n",
              "    20% {\n",
              "      border-color: transparent;\n",
              "      border-left-color: var(--fill-color);\n",
              "      border-top-color: var(--fill-color);\n",
              "    }\n",
              "    30% {\n",
              "      border-color: transparent;\n",
              "      border-left-color: var(--fill-color);\n",
              "      border-top-color: var(--fill-color);\n",
              "      border-right-color: var(--fill-color);\n",
              "    }\n",
              "    40% {\n",
              "      border-color: transparent;\n",
              "      border-right-color: var(--fill-color);\n",
              "      border-top-color: var(--fill-color);\n",
              "    }\n",
              "    60% {\n",
              "      border-color: transparent;\n",
              "      border-right-color: var(--fill-color);\n",
              "    }\n",
              "    80% {\n",
              "      border-color: transparent;\n",
              "      border-right-color: var(--fill-color);\n",
              "      border-bottom-color: var(--fill-color);\n",
              "    }\n",
              "    90% {\n",
              "      border-color: transparent;\n",
              "      border-bottom-color: var(--fill-color);\n",
              "    }\n",
              "  }\n",
              "</style>\n",
              "\n",
              "  <script>\n",
              "    async function quickchart(key) {\n",
              "      const quickchartButtonEl =\n",
              "        document.querySelector('#' + key + ' button');\n",
              "      quickchartButtonEl.disabled = true;  // To prevent multiple clicks.\n",
              "      quickchartButtonEl.classList.add('colab-df-spinner');\n",
              "      try {\n",
              "        const charts = await google.colab.kernel.invokeFunction(\n",
              "            'suggestCharts', [key], {});\n",
              "      } catch (error) {\n",
              "        console.error('Error during call to suggestCharts:', error);\n",
              "      }\n",
              "      quickchartButtonEl.classList.remove('colab-df-spinner');\n",
              "      quickchartButtonEl.classList.add('colab-df-quickchart-complete');\n",
              "    }\n",
              "    (() => {\n",
              "      let quickchartButtonEl =\n",
              "        document.querySelector('#df-f3e7736f-d508-4d0a-80ba-144cb9fdbb83 button');\n",
              "      quickchartButtonEl.style.display =\n",
              "        google.colab.kernel.accessAllowed ? 'block' : 'none';\n",
              "    })();\n",
              "  </script>\n",
              "</div>\n",
              "    </div>\n",
              "  </div>\n"
            ]
          },
          "metadata": {},
          "execution_count": 5
        }
      ]
    },
    {
      "cell_type": "code",
      "execution_count": null,
      "metadata": {
        "id": "e1e9e3be",
        "colab": {
          "base_uri": "https://localhost:8080/"
        },
        "outputId": "d010d525-5086-485d-99a9-7e92115bb116"
      },
      "outputs": [
        {
          "output_type": "execute_result",
          "data": {
            "text/plain": [
              "Nurse                   73\n",
              "Doctor                  71\n",
              "Engineer                63\n",
              "Lawyer                  47\n",
              "Teacher                 40\n",
              "Accountant              37\n",
              "Salesperson             32\n",
              "Software Engineer        4\n",
              "Scientist                4\n",
              "Sales Representative     2\n",
              "Manager                  1\n",
              "Name: Occupation, dtype: int64"
            ]
          },
          "metadata": {},
          "execution_count": 6
        }
      ],
      "source": [
        "d['Occupation'].value_counts()"
      ]
    },
    {
      "cell_type": "code",
      "source": [
        "d.isna().sum()"
      ],
      "metadata": {
        "colab": {
          "base_uri": "https://localhost:8080/"
        },
        "id": "YQFX4ZMEv0ZR",
        "outputId": "7f401d34-66d2-4948-c8e7-64e92be9e037"
      },
      "execution_count": null,
      "outputs": [
        {
          "output_type": "execute_result",
          "data": {
            "text/plain": [
              "Person ID                  0\n",
              "Gender                     0\n",
              "Age                        0\n",
              "Occupation                 0\n",
              "Sleep Duration             0\n",
              "Quality of Sleep           0\n",
              "Physical Activity Level    0\n",
              "Stress Level               0\n",
              "BMI Category               0\n",
              "Blood Pressure             0\n",
              "Heart Rate                 0\n",
              "Daily Steps                0\n",
              "Sleep Disorder             0\n",
              "dtype: int64"
            ]
          },
          "metadata": {},
          "execution_count": 7
        }
      ]
    },
    {
      "cell_type": "code",
      "source": [
        "from sklearn.model_selection import train_test_split\n",
        "from sklearn.svm import SVC\n",
        "from sklearn.metrics import accuracy_score, classification_report, confusion_matrix"
      ],
      "metadata": {
        "id": "WsxXDguzv2Wg"
      },
      "execution_count": null,
      "outputs": []
    },
    {
      "cell_type": "code",
      "source": [
        "d.drop('Person ID', axis=1, inplace=True)"
      ],
      "metadata": {
        "id": "30CUMgPMz8gB"
      },
      "execution_count": null,
      "outputs": []
    },
    {
      "cell_type": "code",
      "source": [
        "d"
      ],
      "metadata": {
        "colab": {
          "base_uri": "https://localhost:8080/",
          "height": 597
        },
        "id": "lR3mnnG7POMF",
        "outputId": "0f74759b-38e9-4911-81c6-324340b87905"
      },
      "execution_count": null,
      "outputs": [
        {
          "output_type": "execute_result",
          "data": {
            "text/plain": [
              "     Gender  Age            Occupation  Sleep Duration  Quality of Sleep  \\\n",
              "0      Male   27     Software Engineer             6.1                 6   \n",
              "1      Male   28                Doctor             6.2                 6   \n",
              "2      Male   28                Doctor             6.2                 6   \n",
              "3      Male   28  Sales Representative             5.9                 4   \n",
              "4      Male   28  Sales Representative             5.9                 4   \n",
              "..      ...  ...                   ...             ...               ...   \n",
              "369  Female   59                 Nurse             8.1                 9   \n",
              "370  Female   59                 Nurse             8.0                 9   \n",
              "371  Female   59                 Nurse             8.1                 9   \n",
              "372  Female   59                 Nurse             8.1                 9   \n",
              "373  Female   59                 Nurse             8.1                 9   \n",
              "\n",
              "     Physical Activity Level  Stress Level BMI Category Blood Pressure  \\\n",
              "0                         42             6   Overweight         126/83   \n",
              "1                         60             8       Normal         125/80   \n",
              "2                         60             8       Normal         125/80   \n",
              "3                         30             8        Obese         140/90   \n",
              "4                         30             8        Obese         140/90   \n",
              "..                       ...           ...          ...            ...   \n",
              "369                       75             3   Overweight         140/95   \n",
              "370                       75             3   Overweight         140/95   \n",
              "371                       75             3   Overweight         140/95   \n",
              "372                       75             3   Overweight         140/95   \n",
              "373                       75             3   Overweight         140/95   \n",
              "\n",
              "     Heart Rate  Daily Steps Sleep Disorder  \n",
              "0            77         4200           None  \n",
              "1            75        10000           None  \n",
              "2            75        10000           None  \n",
              "3            85         3000    Sleep Apnea  \n",
              "4            85         3000    Sleep Apnea  \n",
              "..          ...          ...            ...  \n",
              "369          68         7000    Sleep Apnea  \n",
              "370          68         7000    Sleep Apnea  \n",
              "371          68         7000    Sleep Apnea  \n",
              "372          68         7000    Sleep Apnea  \n",
              "373          68         7000    Sleep Apnea  \n",
              "\n",
              "[374 rows x 12 columns]"
            ],
            "text/html": [
              "\n",
              "  <div id=\"df-e6d6f50b-17ea-48d5-b2fd-fce2f1ea466e\" class=\"colab-df-container\">\n",
              "    <div>\n",
              "<style scoped>\n",
              "    .dataframe tbody tr th:only-of-type {\n",
              "        vertical-align: middle;\n",
              "    }\n",
              "\n",
              "    .dataframe tbody tr th {\n",
              "        vertical-align: top;\n",
              "    }\n",
              "\n",
              "    .dataframe thead th {\n",
              "        text-align: right;\n",
              "    }\n",
              "</style>\n",
              "<table border=\"1\" class=\"dataframe\">\n",
              "  <thead>\n",
              "    <tr style=\"text-align: right;\">\n",
              "      <th></th>\n",
              "      <th>Gender</th>\n",
              "      <th>Age</th>\n",
              "      <th>Occupation</th>\n",
              "      <th>Sleep Duration</th>\n",
              "      <th>Quality of Sleep</th>\n",
              "      <th>Physical Activity Level</th>\n",
              "      <th>Stress Level</th>\n",
              "      <th>BMI Category</th>\n",
              "      <th>Blood Pressure</th>\n",
              "      <th>Heart Rate</th>\n",
              "      <th>Daily Steps</th>\n",
              "      <th>Sleep Disorder</th>\n",
              "    </tr>\n",
              "  </thead>\n",
              "  <tbody>\n",
              "    <tr>\n",
              "      <th>0</th>\n",
              "      <td>Male</td>\n",
              "      <td>27</td>\n",
              "      <td>Software Engineer</td>\n",
              "      <td>6.1</td>\n",
              "      <td>6</td>\n",
              "      <td>42</td>\n",
              "      <td>6</td>\n",
              "      <td>Overweight</td>\n",
              "      <td>126/83</td>\n",
              "      <td>77</td>\n",
              "      <td>4200</td>\n",
              "      <td>None</td>\n",
              "    </tr>\n",
              "    <tr>\n",
              "      <th>1</th>\n",
              "      <td>Male</td>\n",
              "      <td>28</td>\n",
              "      <td>Doctor</td>\n",
              "      <td>6.2</td>\n",
              "      <td>6</td>\n",
              "      <td>60</td>\n",
              "      <td>8</td>\n",
              "      <td>Normal</td>\n",
              "      <td>125/80</td>\n",
              "      <td>75</td>\n",
              "      <td>10000</td>\n",
              "      <td>None</td>\n",
              "    </tr>\n",
              "    <tr>\n",
              "      <th>2</th>\n",
              "      <td>Male</td>\n",
              "      <td>28</td>\n",
              "      <td>Doctor</td>\n",
              "      <td>6.2</td>\n",
              "      <td>6</td>\n",
              "      <td>60</td>\n",
              "      <td>8</td>\n",
              "      <td>Normal</td>\n",
              "      <td>125/80</td>\n",
              "      <td>75</td>\n",
              "      <td>10000</td>\n",
              "      <td>None</td>\n",
              "    </tr>\n",
              "    <tr>\n",
              "      <th>3</th>\n",
              "      <td>Male</td>\n",
              "      <td>28</td>\n",
              "      <td>Sales Representative</td>\n",
              "      <td>5.9</td>\n",
              "      <td>4</td>\n",
              "      <td>30</td>\n",
              "      <td>8</td>\n",
              "      <td>Obese</td>\n",
              "      <td>140/90</td>\n",
              "      <td>85</td>\n",
              "      <td>3000</td>\n",
              "      <td>Sleep Apnea</td>\n",
              "    </tr>\n",
              "    <tr>\n",
              "      <th>4</th>\n",
              "      <td>Male</td>\n",
              "      <td>28</td>\n",
              "      <td>Sales Representative</td>\n",
              "      <td>5.9</td>\n",
              "      <td>4</td>\n",
              "      <td>30</td>\n",
              "      <td>8</td>\n",
              "      <td>Obese</td>\n",
              "      <td>140/90</td>\n",
              "      <td>85</td>\n",
              "      <td>3000</td>\n",
              "      <td>Sleep Apnea</td>\n",
              "    </tr>\n",
              "    <tr>\n",
              "      <th>...</th>\n",
              "      <td>...</td>\n",
              "      <td>...</td>\n",
              "      <td>...</td>\n",
              "      <td>...</td>\n",
              "      <td>...</td>\n",
              "      <td>...</td>\n",
              "      <td>...</td>\n",
              "      <td>...</td>\n",
              "      <td>...</td>\n",
              "      <td>...</td>\n",
              "      <td>...</td>\n",
              "      <td>...</td>\n",
              "    </tr>\n",
              "    <tr>\n",
              "      <th>369</th>\n",
              "      <td>Female</td>\n",
              "      <td>59</td>\n",
              "      <td>Nurse</td>\n",
              "      <td>8.1</td>\n",
              "      <td>9</td>\n",
              "      <td>75</td>\n",
              "      <td>3</td>\n",
              "      <td>Overweight</td>\n",
              "      <td>140/95</td>\n",
              "      <td>68</td>\n",
              "      <td>7000</td>\n",
              "      <td>Sleep Apnea</td>\n",
              "    </tr>\n",
              "    <tr>\n",
              "      <th>370</th>\n",
              "      <td>Female</td>\n",
              "      <td>59</td>\n",
              "      <td>Nurse</td>\n",
              "      <td>8.0</td>\n",
              "      <td>9</td>\n",
              "      <td>75</td>\n",
              "      <td>3</td>\n",
              "      <td>Overweight</td>\n",
              "      <td>140/95</td>\n",
              "      <td>68</td>\n",
              "      <td>7000</td>\n",
              "      <td>Sleep Apnea</td>\n",
              "    </tr>\n",
              "    <tr>\n",
              "      <th>371</th>\n",
              "      <td>Female</td>\n",
              "      <td>59</td>\n",
              "      <td>Nurse</td>\n",
              "      <td>8.1</td>\n",
              "      <td>9</td>\n",
              "      <td>75</td>\n",
              "      <td>3</td>\n",
              "      <td>Overweight</td>\n",
              "      <td>140/95</td>\n",
              "      <td>68</td>\n",
              "      <td>7000</td>\n",
              "      <td>Sleep Apnea</td>\n",
              "    </tr>\n",
              "    <tr>\n",
              "      <th>372</th>\n",
              "      <td>Female</td>\n",
              "      <td>59</td>\n",
              "      <td>Nurse</td>\n",
              "      <td>8.1</td>\n",
              "      <td>9</td>\n",
              "      <td>75</td>\n",
              "      <td>3</td>\n",
              "      <td>Overweight</td>\n",
              "      <td>140/95</td>\n",
              "      <td>68</td>\n",
              "      <td>7000</td>\n",
              "      <td>Sleep Apnea</td>\n",
              "    </tr>\n",
              "    <tr>\n",
              "      <th>373</th>\n",
              "      <td>Female</td>\n",
              "      <td>59</td>\n",
              "      <td>Nurse</td>\n",
              "      <td>8.1</td>\n",
              "      <td>9</td>\n",
              "      <td>75</td>\n",
              "      <td>3</td>\n",
              "      <td>Overweight</td>\n",
              "      <td>140/95</td>\n",
              "      <td>68</td>\n",
              "      <td>7000</td>\n",
              "      <td>Sleep Apnea</td>\n",
              "    </tr>\n",
              "  </tbody>\n",
              "</table>\n",
              "<p>374 rows × 12 columns</p>\n",
              "</div>\n",
              "    <div class=\"colab-df-buttons\">\n",
              "\n",
              "  <div class=\"colab-df-container\">\n",
              "    <button class=\"colab-df-convert\" onclick=\"convertToInteractive('df-e6d6f50b-17ea-48d5-b2fd-fce2f1ea466e')\"\n",
              "            title=\"Convert this dataframe to an interactive table.\"\n",
              "            style=\"display:none;\">\n",
              "\n",
              "  <svg xmlns=\"http://www.w3.org/2000/svg\" height=\"24px\" viewBox=\"0 -960 960 960\">\n",
              "    <path d=\"M120-120v-720h720v720H120Zm60-500h600v-160H180v160Zm220 220h160v-160H400v160Zm0 220h160v-160H400v160ZM180-400h160v-160H180v160Zm440 0h160v-160H620v160ZM180-180h160v-160H180v160Zm440 0h160v-160H620v160Z\"/>\n",
              "  </svg>\n",
              "    </button>\n",
              "\n",
              "  <style>\n",
              "    .colab-df-container {\n",
              "      display:flex;\n",
              "      gap: 12px;\n",
              "    }\n",
              "\n",
              "    .colab-df-convert {\n",
              "      background-color: #E8F0FE;\n",
              "      border: none;\n",
              "      border-radius: 50%;\n",
              "      cursor: pointer;\n",
              "      display: none;\n",
              "      fill: #1967D2;\n",
              "      height: 32px;\n",
              "      padding: 0 0 0 0;\n",
              "      width: 32px;\n",
              "    }\n",
              "\n",
              "    .colab-df-convert:hover {\n",
              "      background-color: #E2EBFA;\n",
              "      box-shadow: 0px 1px 2px rgba(60, 64, 67, 0.3), 0px 1px 3px 1px rgba(60, 64, 67, 0.15);\n",
              "      fill: #174EA6;\n",
              "    }\n",
              "\n",
              "    .colab-df-buttons div {\n",
              "      margin-bottom: 4px;\n",
              "    }\n",
              "\n",
              "    [theme=dark] .colab-df-convert {\n",
              "      background-color: #3B4455;\n",
              "      fill: #D2E3FC;\n",
              "    }\n",
              "\n",
              "    [theme=dark] .colab-df-convert:hover {\n",
              "      background-color: #434B5C;\n",
              "      box-shadow: 0px 1px 3px 1px rgba(0, 0, 0, 0.15);\n",
              "      filter: drop-shadow(0px 1px 2px rgba(0, 0, 0, 0.3));\n",
              "      fill: #FFFFFF;\n",
              "    }\n",
              "  </style>\n",
              "\n",
              "    <script>\n",
              "      const buttonEl =\n",
              "        document.querySelector('#df-e6d6f50b-17ea-48d5-b2fd-fce2f1ea466e button.colab-df-convert');\n",
              "      buttonEl.style.display =\n",
              "        google.colab.kernel.accessAllowed ? 'block' : 'none';\n",
              "\n",
              "      async function convertToInteractive(key) {\n",
              "        const element = document.querySelector('#df-e6d6f50b-17ea-48d5-b2fd-fce2f1ea466e');\n",
              "        const dataTable =\n",
              "          await google.colab.kernel.invokeFunction('convertToInteractive',\n",
              "                                                    [key], {});\n",
              "        if (!dataTable) return;\n",
              "\n",
              "        const docLinkHtml = 'Like what you see? Visit the ' +\n",
              "          '<a target=\"_blank\" href=https://colab.research.google.com/notebooks/data_table.ipynb>data table notebook</a>'\n",
              "          + ' to learn more about interactive tables.';\n",
              "        element.innerHTML = '';\n",
              "        dataTable['output_type'] = 'display_data';\n",
              "        await google.colab.output.renderOutput(dataTable, element);\n",
              "        const docLink = document.createElement('div');\n",
              "        docLink.innerHTML = docLinkHtml;\n",
              "        element.appendChild(docLink);\n",
              "      }\n",
              "    </script>\n",
              "  </div>\n",
              "\n",
              "\n",
              "<div id=\"df-f9fe0d81-c9de-4ac6-a79f-c367c092a962\">\n",
              "  <button class=\"colab-df-quickchart\" onclick=\"quickchart('df-f9fe0d81-c9de-4ac6-a79f-c367c092a962')\"\n",
              "            title=\"Suggest charts.\"\n",
              "            style=\"display:none;\">\n",
              "\n",
              "<svg xmlns=\"http://www.w3.org/2000/svg\" height=\"24px\"viewBox=\"0 0 24 24\"\n",
              "     width=\"24px\">\n",
              "    <g>\n",
              "        <path d=\"M19 3H5c-1.1 0-2 .9-2 2v14c0 1.1.9 2 2 2h14c1.1 0 2-.9 2-2V5c0-1.1-.9-2-2-2zM9 17H7v-7h2v7zm4 0h-2V7h2v10zm4 0h-2v-4h2v4z\"/>\n",
              "    </g>\n",
              "</svg>\n",
              "  </button>\n",
              "\n",
              "<style>\n",
              "  .colab-df-quickchart {\n",
              "      --bg-color: #E8F0FE;\n",
              "      --fill-color: #1967D2;\n",
              "      --hover-bg-color: #E2EBFA;\n",
              "      --hover-fill-color: #174EA6;\n",
              "      --disabled-fill-color: #AAA;\n",
              "      --disabled-bg-color: #DDD;\n",
              "  }\n",
              "\n",
              "  [theme=dark] .colab-df-quickchart {\n",
              "      --bg-color: #3B4455;\n",
              "      --fill-color: #D2E3FC;\n",
              "      --hover-bg-color: #434B5C;\n",
              "      --hover-fill-color: #FFFFFF;\n",
              "      --disabled-bg-color: #3B4455;\n",
              "      --disabled-fill-color: #666;\n",
              "  }\n",
              "\n",
              "  .colab-df-quickchart {\n",
              "    background-color: var(--bg-color);\n",
              "    border: none;\n",
              "    border-radius: 50%;\n",
              "    cursor: pointer;\n",
              "    display: none;\n",
              "    fill: var(--fill-color);\n",
              "    height: 32px;\n",
              "    padding: 0;\n",
              "    width: 32px;\n",
              "  }\n",
              "\n",
              "  .colab-df-quickchart:hover {\n",
              "    background-color: var(--hover-bg-color);\n",
              "    box-shadow: 0 1px 2px rgba(60, 64, 67, 0.3), 0 1px 3px 1px rgba(60, 64, 67, 0.15);\n",
              "    fill: var(--button-hover-fill-color);\n",
              "  }\n",
              "\n",
              "  .colab-df-quickchart-complete:disabled,\n",
              "  .colab-df-quickchart-complete:disabled:hover {\n",
              "    background-color: var(--disabled-bg-color);\n",
              "    fill: var(--disabled-fill-color);\n",
              "    box-shadow: none;\n",
              "  }\n",
              "\n",
              "  .colab-df-spinner {\n",
              "    border: 2px solid var(--fill-color);\n",
              "    border-color: transparent;\n",
              "    border-bottom-color: var(--fill-color);\n",
              "    animation:\n",
              "      spin 1s steps(1) infinite;\n",
              "  }\n",
              "\n",
              "  @keyframes spin {\n",
              "    0% {\n",
              "      border-color: transparent;\n",
              "      border-bottom-color: var(--fill-color);\n",
              "      border-left-color: var(--fill-color);\n",
              "    }\n",
              "    20% {\n",
              "      border-color: transparent;\n",
              "      border-left-color: var(--fill-color);\n",
              "      border-top-color: var(--fill-color);\n",
              "    }\n",
              "    30% {\n",
              "      border-color: transparent;\n",
              "      border-left-color: var(--fill-color);\n",
              "      border-top-color: var(--fill-color);\n",
              "      border-right-color: var(--fill-color);\n",
              "    }\n",
              "    40% {\n",
              "      border-color: transparent;\n",
              "      border-right-color: var(--fill-color);\n",
              "      border-top-color: var(--fill-color);\n",
              "    }\n",
              "    60% {\n",
              "      border-color: transparent;\n",
              "      border-right-color: var(--fill-color);\n",
              "    }\n",
              "    80% {\n",
              "      border-color: transparent;\n",
              "      border-right-color: var(--fill-color);\n",
              "      border-bottom-color: var(--fill-color);\n",
              "    }\n",
              "    90% {\n",
              "      border-color: transparent;\n",
              "      border-bottom-color: var(--fill-color);\n",
              "    }\n",
              "  }\n",
              "</style>\n",
              "\n",
              "  <script>\n",
              "    async function quickchart(key) {\n",
              "      const quickchartButtonEl =\n",
              "        document.querySelector('#' + key + ' button');\n",
              "      quickchartButtonEl.disabled = true;  // To prevent multiple clicks.\n",
              "      quickchartButtonEl.classList.add('colab-df-spinner');\n",
              "      try {\n",
              "        const charts = await google.colab.kernel.invokeFunction(\n",
              "            'suggestCharts', [key], {});\n",
              "      } catch (error) {\n",
              "        console.error('Error during call to suggestCharts:', error);\n",
              "      }\n",
              "      quickchartButtonEl.classList.remove('colab-df-spinner');\n",
              "      quickchartButtonEl.classList.add('colab-df-quickchart-complete');\n",
              "    }\n",
              "    (() => {\n",
              "      let quickchartButtonEl =\n",
              "        document.querySelector('#df-f9fe0d81-c9de-4ac6-a79f-c367c092a962 button');\n",
              "      quickchartButtonEl.style.display =\n",
              "        google.colab.kernel.accessAllowed ? 'block' : 'none';\n",
              "    })();\n",
              "  </script>\n",
              "</div>\n",
              "    </div>\n",
              "  </div>\n"
            ]
          },
          "metadata": {},
          "execution_count": 10
        }
      ]
    },
    {
      "cell_type": "code",
      "source": [
        "d.groupby('Age')['Sleep Disorder'].value_counts()"
      ],
      "metadata": {
        "colab": {
          "base_uri": "https://localhost:8080/"
        },
        "id": "r7lbv971QyDZ",
        "outputId": "d2ec4ddb-951f-4b24-84f6-bd2c0baf5ad3"
      },
      "execution_count": null,
      "outputs": [
        {
          "output_type": "execute_result",
          "data": {
            "text/plain": [
              "Age  Sleep Disorder\n",
              "27   None               1\n",
              "28   None               2\n",
              "     Sleep Apnea        2\n",
              "     Insomnia           1\n",
              "29   None               9\n",
              "     Insomnia           2\n",
              "     Sleep Apnea        2\n",
              "30   None              11\n",
              "     Insomnia           1\n",
              "     Sleep Apnea        1\n",
              "31   None              17\n",
              "     Sleep Apnea        1\n",
              "32   None              17\n",
              "33   None              12\n",
              "     Insomnia           1\n",
              "34   Sleep Apnea        2\n",
              "35   None              11\n",
              "     Sleep Apnea        1\n",
              "36   None               8\n",
              "     Insomnia           2\n",
              "     Sleep Apnea        2\n",
              "37   None              20\n",
              "38   None              18\n",
              "     Sleep Apnea        2\n",
              "39   None              13\n",
              "     Insomnia           2\n",
              "40   None               4\n",
              "41   None              11\n",
              "     Insomnia           1\n",
              "42   None               6\n",
              "     Sleep Apnea        2\n",
              "     Insomnia           1\n",
              "43   Insomnia          17\n",
              "     None              15\n",
              "     Sleep Apnea        2\n",
              "44   Insomnia          28\n",
              "     None               2\n",
              "45   Insomnia          11\n",
              "     None               3\n",
              "48   Insomnia           2\n",
              "     Sleep Apnea        1\n",
              "49   Sleep Apnea       10\n",
              "     None               1\n",
              "50   Sleep Apnea       17\n",
              "     None               2\n",
              "     Insomnia           1\n",
              "51   None               5\n",
              "     Sleep Apnea        3\n",
              "52   Insomnia           6\n",
              "     None               3\n",
              "53   None              16\n",
              "     Insomnia           1\n",
              "54   None               7\n",
              "55   Sleep Apnea        2\n",
              "56   None               2\n",
              "57   Sleep Apnea        8\n",
              "     None               1\n",
              "58   Sleep Apnea        6\n",
              "59   Sleep Apnea       14\n",
              "     None               2\n",
              "Name: Sleep Disorder, dtype: int64"
            ]
          },
          "metadata": {},
          "execution_count": 11
        }
      ]
    },
    {
      "cell_type": "code",
      "source": [
        "d['Stress Level'].unique()"
      ],
      "metadata": {
        "colab": {
          "base_uri": "https://localhost:8080/"
        },
        "id": "y2NMgqzwR_y1",
        "outputId": "49b35f2d-7242-4c36-c7da-9351ce2eae5f"
      },
      "execution_count": null,
      "outputs": [
        {
          "output_type": "execute_result",
          "data": {
            "text/plain": [
              "array([6, 8, 7, 4, 3, 5])"
            ]
          },
          "metadata": {},
          "execution_count": 12
        }
      ]
    },
    {
      "cell_type": "code",
      "source": [
        "d['Physical Activity Level'].unique()"
      ],
      "metadata": {
        "colab": {
          "base_uri": "https://localhost:8080/"
        },
        "id": "qvdLpB4zSxVJ",
        "outputId": "43f0bd9e-6da0-44bd-cd13-1fba26b145cb"
      },
      "execution_count": null,
      "outputs": [
        {
          "output_type": "execute_result",
          "data": {
            "text/plain": [
              "array([42, 60, 30, 40, 75, 35, 45, 50, 32, 70, 80, 55, 90, 47, 65, 85])"
            ]
          },
          "metadata": {},
          "execution_count": 13
        }
      ]
    },
    {
      "cell_type": "code",
      "source": [],
      "metadata": {
        "id": "l-8xIz1YWdD1"
      },
      "execution_count": null,
      "outputs": []
    },
    {
      "cell_type": "markdown",
      "source": [
        "# Data Preprocessing"
      ],
      "metadata": {
        "id": "leLayMvTb7-1"
      }
    },
    {
      "cell_type": "code",
      "source": [],
      "metadata": {
        "id": "HoORLLXncDfe"
      },
      "execution_count": null,
      "outputs": []
    },
    {
      "cell_type": "markdown",
      "source": [
        "# Feature Engineering"
      ],
      "metadata": {
        "id": "KuM-CUAgcHkM"
      }
    },
    {
      "cell_type": "markdown",
      "source": [
        "**In this section we try to do some feature engineering. First, we use get_dummies function to create a dummy variable for each of the categorical variables: Occupation, Gender, BMI Category, and Sleep Disorder. We call the new dataframe d_1.**"
      ],
      "metadata": {
        "id": "Gnn9Mkqhi5bm"
      }
    },
    {
      "cell_type": "code",
      "source": [
        "d_1 = pd.get_dummies(d, columns=['Gender', 'Occupation','BMI Category','Sleep Disorder'])"
      ],
      "metadata": {
        "id": "3zYlDptpchYm"
      },
      "execution_count": null,
      "outputs": []
    },
    {
      "cell_type": "markdown",
      "source": [
        "**Here you can see the name of the columns of d_1.**"
      ],
      "metadata": {
        "id": "zfRbjpXykd44"
      }
    },
    {
      "cell_type": "code",
      "source": [
        "d_1.columns"
      ],
      "metadata": {
        "colab": {
          "base_uri": "https://localhost:8080/"
        },
        "id": "za9RoC71hbqv",
        "outputId": "deb84de6-7736-4284-8b2d-f40bbd770a20"
      },
      "execution_count": null,
      "outputs": [
        {
          "output_type": "execute_result",
          "data": {
            "text/plain": [
              "Index(['Age', 'Sleep Duration', 'Quality of Sleep', 'Physical Activity Level',\n",
              "       'Stress Level', 'Blood Pressure', 'Heart Rate', 'Daily Steps',\n",
              "       'Gender_Female', 'Gender_Male', 'Occupation_Accountant',\n",
              "       'Occupation_Doctor', 'Occupation_Engineer', 'Occupation_Lawyer',\n",
              "       'Occupation_Manager', 'Occupation_Nurse',\n",
              "       'Occupation_Sales Representative', 'Occupation_Salesperson',\n",
              "       'Occupation_Scientist', 'Occupation_Software Engineer',\n",
              "       'Occupation_Teacher', 'BMI Category_Normal',\n",
              "       'BMI Category_Normal Weight', 'BMI Category_Obese',\n",
              "       'BMI Category_Overweight', 'Sleep Disorder_Insomnia',\n",
              "       'Sleep Disorder_None', 'Sleep Disorder_Sleep Apnea'],\n",
              "      dtype='object')"
            ]
          },
          "metadata": {},
          "execution_count": 15
        }
      ]
    },
    {
      "cell_type": "markdown",
      "source": [
        "**Next we look at our numeric columns, which are Age, Physical Activity Level, Hear Rate,**"
      ],
      "metadata": {
        "id": "Tunh8sO7q2hU"
      }
    },
    {
      "cell_type": "code",
      "source": [
        "d_1['Age'].value_counts()"
      ],
      "metadata": {
        "colab": {
          "base_uri": "https://localhost:8080/"
        },
        "id": "YvC0qC_KiB6D",
        "outputId": "c374aac9-46dc-4575-aaf6-db9c9c692264"
      },
      "execution_count": null,
      "outputs": [
        {
          "output_type": "execute_result",
          "data": {
            "text/plain": [
              "43    34\n",
              "44    30\n",
              "37    20\n",
              "38    20\n",
              "50    20\n",
              "31    18\n",
              "32    17\n",
              "53    17\n",
              "59    16\n",
              "39    15\n",
              "45    14\n",
              "33    13\n",
              "30    13\n",
              "29    13\n",
              "35    12\n",
              "36    12\n",
              "41    12\n",
              "49    11\n",
              "57     9\n",
              "52     9\n",
              "42     9\n",
              "51     8\n",
              "54     7\n",
              "58     6\n",
              "28     5\n",
              "40     4\n",
              "48     3\n",
              "55     2\n",
              "56     2\n",
              "34     2\n",
              "27     1\n",
              "Name: Age, dtype: int64"
            ]
          },
          "metadata": {},
          "execution_count": 16
        }
      ]
    },
    {
      "cell_type": "code",
      "source": [
        "d_1['Physical Activity Level'].value_counts()"
      ],
      "metadata": {
        "colab": {
          "base_uri": "https://localhost:8080/"
        },
        "id": "Af1Z9kYtpO9C",
        "outputId": "c976570f-21d7-4be6-b49d-e48e088eb881"
      },
      "execution_count": null,
      "outputs": [
        {
          "output_type": "execute_result",
          "data": {
            "text/plain": [
              "60    70\n",
              "30    68\n",
              "45    68\n",
              "75    67\n",
              "90    67\n",
              "40     6\n",
              "55     6\n",
              "35     4\n",
              "50     4\n",
              "70     3\n",
              "42     2\n",
              "32     2\n",
              "80     2\n",
              "65     2\n",
              "85     2\n",
              "47     1\n",
              "Name: Physical Activity Level, dtype: int64"
            ]
          },
          "metadata": {},
          "execution_count": 17
        }
      ]
    },
    {
      "cell_type": "code",
      "source": [
        "d_1['Heart Rate'].value_counts()"
      ],
      "metadata": {
        "colab": {
          "base_uri": "https://localhost:8080/"
        },
        "id": "ChS85dp7pStL",
        "outputId": "d3081407-27fc-4871-daa4-335a9c7eec04"
      },
      "execution_count": null,
      "outputs": [
        {
          "output_type": "execute_result",
          "data": {
            "text/plain": [
              "68    94\n",
              "70    76\n",
              "72    69\n",
              "65    67\n",
              "75    36\n",
              "78     5\n",
              "85     3\n",
              "80     3\n",
              "84     2\n",
              "83     2\n",
              "73     2\n",
              "67     2\n",
              "74     2\n",
              "77     2\n",
              "81     2\n",
              "76     2\n",
              "69     2\n",
              "86     2\n",
              "82     1\n",
              "Name: Heart Rate, dtype: int64"
            ]
          },
          "metadata": {},
          "execution_count": 18
        }
      ]
    },
    {
      "cell_type": "code",
      "source": [
        "d_1['Daily Steps'].value_counts()"
      ],
      "metadata": {
        "colab": {
          "base_uri": "https://localhost:8080/"
        },
        "id": "uwosX5rZpkU_",
        "outputId": "f1a4aafe-15e7-46b0-d92a-b27f98dbfb2f"
      },
      "execution_count": null,
      "outputs": [
        {
          "output_type": "execute_result",
          "data": {
            "text/plain": [
              "8000     101\n",
              "6000      68\n",
              "5000      68\n",
              "7000      66\n",
              "10000     36\n",
              "5500       4\n",
              "3000       3\n",
              "3500       3\n",
              "4000       3\n",
              "6800       3\n",
              "4800       2\n",
              "7300       2\n",
              "7500       2\n",
              "4200       2\n",
              "3300       2\n",
              "5600       2\n",
              "5200       2\n",
              "4100       2\n",
              "3700       2\n",
              "6200       1\n",
              "Name: Daily Steps, dtype: int64"
            ]
          },
          "metadata": {},
          "execution_count": 19
        }
      ]
    },
    {
      "cell_type": "code",
      "source": [
        "d_1['Quality of Sleep'].value_counts()"
      ],
      "metadata": {
        "colab": {
          "base_uri": "https://localhost:8080/"
        },
        "id": "5XtcUeVJqQaD",
        "outputId": "23e2a875-41d1-45d7-af52-df0f4ddb7af4"
      },
      "execution_count": null,
      "outputs": [
        {
          "output_type": "execute_result",
          "data": {
            "text/plain": [
              "8    109\n",
              "6    105\n",
              "7     77\n",
              "9     71\n",
              "5      7\n",
              "4      5\n",
              "Name: Quality of Sleep, dtype: int64"
            ]
          },
          "metadata": {},
          "execution_count": 20
        }
      ]
    },
    {
      "cell_type": "code",
      "source": [
        "d_1['Quality of Sleep'].value_counts()"
      ],
      "metadata": {
        "colab": {
          "base_uri": "https://localhost:8080/"
        },
        "id": "Ia99-wkxqXlj",
        "outputId": "ef8b575a-48e6-4c25-cbc5-88519c6d1ca8"
      },
      "execution_count": null,
      "outputs": [
        {
          "output_type": "execute_result",
          "data": {
            "text/plain": [
              "8    109\n",
              "6    105\n",
              "7     77\n",
              "9     71\n",
              "5      7\n",
              "4      5\n",
              "Name: Quality of Sleep, dtype: int64"
            ]
          },
          "metadata": {},
          "execution_count": 21
        }
      ]
    },
    {
      "cell_type": "code",
      "source": [
        "d_1['Blood Pressure'].value_counts()"
      ],
      "metadata": {
        "colab": {
          "base_uri": "https://localhost:8080/"
        },
        "id": "uRgaJ5LNsTN6",
        "outputId": "6446bae1-6851-44c3-96b5-f44c0e89106e"
      },
      "execution_count": null,
      "outputs": [
        {
          "output_type": "execute_result",
          "data": {
            "text/plain": [
              "130/85    99\n",
              "140/95    65\n",
              "125/80    65\n",
              "120/80    45\n",
              "115/75    32\n",
              "135/90    27\n",
              "140/90     4\n",
              "125/82     4\n",
              "132/87     3\n",
              "128/85     3\n",
              "126/83     2\n",
              "115/78     2\n",
              "139/91     2\n",
              "142/92     2\n",
              "119/77     2\n",
              "135/88     2\n",
              "129/84     2\n",
              "128/84     2\n",
              "131/86     2\n",
              "117/76     2\n",
              "130/86     2\n",
              "118/75     2\n",
              "121/79     1\n",
              "122/80     1\n",
              "118/76     1\n",
              "Name: Blood Pressure, dtype: int64"
            ]
          },
          "metadata": {},
          "execution_count": 22
        }
      ]
    },
    {
      "cell_type": "markdown",
      "source": [
        "**Based on the values of the columns above, we to standardize the columns 'Age', 'Sleep Duration', 'Quality of Sleep', 'Daily Steps', and 'Heart Rate'. For this we use MinMaxScaler from sklearn. Moreover, we split the blood pressure column into two columns by forming separate columns for Systolic Blood Presure and Diastolic Blood Pressure; this way we will be dealing with two columns that consist of integer values instead of Blood Pressure column whose data type is object.**"
      ],
      "metadata": {
        "id": "Sb9Ex0Li-jjq"
      }
    },
    {
      "cell_type": "markdown",
      "source": [
        "**First we apply MinMaxScaler() to the columns mentioned above and form new columns by adding \"_to_scale\" to the end of the name of each column.**"
      ],
      "metadata": {
        "id": "c1uzjesMAI_e"
      }
    },
    {
      "cell_type": "code",
      "source": [
        "from sklearn.preprocessing import MinMaxScaler\n",
        "scaler = MinMaxScaler()\n",
        "\n",
        "columns=['Age','Sleep Duration', 'Quality of Sleep', 'Daily Steps','Heart Rate']\n",
        "for col in columns:\n",
        "  scaled_column_data = scaler.fit_transform(d_1[col].values.reshape(-1, 1))\n",
        "  new_col=col+\"_to_scale\"\n",
        "  d_1[new_col]=scaled_column_data\n",
        "\n"
      ],
      "metadata": {
        "id": "_0S_CLmCivje"
      },
      "execution_count": null,
      "outputs": []
    },
    {
      "cell_type": "code",
      "source": [
        "d_1.columns"
      ],
      "metadata": {
        "colab": {
          "base_uri": "https://localhost:8080/"
        },
        "id": "rmg4wS9htuDV",
        "outputId": "403c7c19-615a-4656-b683-788fc73ac68b"
      },
      "execution_count": null,
      "outputs": [
        {
          "output_type": "execute_result",
          "data": {
            "text/plain": [
              "Index(['Age', 'Sleep Duration', 'Quality of Sleep', 'Physical Activity Level',\n",
              "       'Stress Level', 'Blood Pressure', 'Heart Rate', 'Daily Steps',\n",
              "       'Gender_Female', 'Gender_Male', 'Occupation_Accountant',\n",
              "       'Occupation_Doctor', 'Occupation_Engineer', 'Occupation_Lawyer',\n",
              "       'Occupation_Manager', 'Occupation_Nurse',\n",
              "       'Occupation_Sales Representative', 'Occupation_Salesperson',\n",
              "       'Occupation_Scientist', 'Occupation_Software Engineer',\n",
              "       'Occupation_Teacher', 'BMI Category_Normal',\n",
              "       'BMI Category_Normal Weight', 'BMI Category_Obese',\n",
              "       'BMI Category_Overweight', 'Sleep Disorder_Insomnia',\n",
              "       'Sleep Disorder_None', 'Sleep Disorder_Sleep Apnea', 'Age_to_scale',\n",
              "       'Sleep Duration_to_scale', 'Quality of Sleep_to_scale',\n",
              "       'Daily Steps_to_scale', 'Heart Rate_to_scale'],\n",
              "      dtype='object')"
            ]
          },
          "metadata": {},
          "execution_count": 24
        }
      ]
    },
    {
      "cell_type": "markdown",
      "source": [
        "**Next we split the Blood Pressure column into \"Systolic_BP\" and \"Diastolic_BP\":**"
      ],
      "metadata": {
        "id": "o4oMsMJqCJfP"
      }
    },
    {
      "cell_type": "code",
      "source": [
        "d_1[['Systolic_BP', 'Diastolic_BP']] = d_1['Blood Pressure'].str.split('/', expand=True).astype(int)"
      ],
      "metadata": {
        "id": "MVfArp0FAHFf"
      },
      "execution_count": null,
      "outputs": []
    },
    {
      "cell_type": "code",
      "source": [
        "columns=['Systolic_BP', 'Diastolic_BP']\n",
        "for col in columns:\n",
        "  scaled_column_data = scaler.fit_transform(d_1[col].values.reshape(-1, 1))\n",
        "  new_col=col+\"_to_scale\"\n",
        "  d_1[new_col]=scaled_column_data"
      ],
      "metadata": {
        "id": "BVl1RxHpGa2W"
      },
      "execution_count": null,
      "outputs": []
    },
    {
      "cell_type": "code",
      "source": [
        "d_1.columns"
      ],
      "metadata": {
        "colab": {
          "base_uri": "https://localhost:8080/"
        },
        "id": "dPAKl81AClID",
        "outputId": "6b76e9ba-0476-40d8-9e89-7d047429c05a"
      },
      "execution_count": null,
      "outputs": [
        {
          "output_type": "execute_result",
          "data": {
            "text/plain": [
              "Index(['Age', 'Sleep Duration', 'Quality of Sleep', 'Physical Activity Level',\n",
              "       'Stress Level', 'Blood Pressure', 'Heart Rate', 'Daily Steps',\n",
              "       'Gender_Female', 'Gender_Male', 'Occupation_Accountant',\n",
              "       'Occupation_Doctor', 'Occupation_Engineer', 'Occupation_Lawyer',\n",
              "       'Occupation_Manager', 'Occupation_Nurse',\n",
              "       'Occupation_Sales Representative', 'Occupation_Salesperson',\n",
              "       'Occupation_Scientist', 'Occupation_Software Engineer',\n",
              "       'Occupation_Teacher', 'BMI Category_Normal',\n",
              "       'BMI Category_Normal Weight', 'BMI Category_Obese',\n",
              "       'BMI Category_Overweight', 'Sleep Disorder_Insomnia',\n",
              "       'Sleep Disorder_None', 'Sleep Disorder_Sleep Apnea', 'Age_to_scale',\n",
              "       'Sleep Duration_to_scale', 'Quality of Sleep_to_scale',\n",
              "       'Daily Steps_to_scale', 'Heart Rate_to_scale', 'Systolic_BP',\n",
              "       'Diastolic_BP', 'Systolic_BP_to_scale', 'Diastolic_BP_to_scale'],\n",
              "      dtype='object')"
            ]
          },
          "metadata": {},
          "execution_count": 27
        }
      ]
    },
    {
      "cell_type": "markdown",
      "source": [
        "**Finally, we drop all the columns that are not needed anymore. We call the new dataframe d_2. Now all columns of d_2 are normalized and are numeric and we can use it in the model training.**"
      ],
      "metadata": {
        "id": "CH1Qt7tSDU4I"
      }
    },
    {
      "cell_type": "code",
      "source": [
        "d_2=d_1.drop(['Age','Sleep Duration','Quality of Sleep','Physical Activity Level', 'Stress Level', 'Blood Pressure', 'Heart Rate', 'Daily Steps','Systolic_BP', 'Diastolic_BP'], axis=1)"
      ],
      "metadata": {
        "id": "q6G3q1t67-uE"
      },
      "execution_count": null,
      "outputs": []
    },
    {
      "cell_type": "code",
      "source": [
        "d_2.head()"
      ],
      "metadata": {
        "colab": {
          "base_uri": "https://localhost:8080/",
          "height": 290
        },
        "id": "6QL5TF9a_x6g",
        "outputId": "0a457a54-c4bf-4d4f-f840-f2d07e10b8e6"
      },
      "execution_count": null,
      "outputs": [
        {
          "output_type": "execute_result",
          "data": {
            "text/plain": [
              "   Gender_Female  Gender_Male  Occupation_Accountant  Occupation_Doctor  \\\n",
              "0              0            1                      0                  0   \n",
              "1              0            1                      0                  1   \n",
              "2              0            1                      0                  1   \n",
              "3              0            1                      0                  0   \n",
              "4              0            1                      0                  0   \n",
              "\n",
              "   Occupation_Engineer  Occupation_Lawyer  Occupation_Manager  \\\n",
              "0                    0                  0                   0   \n",
              "1                    0                  0                   0   \n",
              "2                    0                  0                   0   \n",
              "3                    0                  0                   0   \n",
              "4                    0                  0                   0   \n",
              "\n",
              "   Occupation_Nurse  Occupation_Sales Representative  Occupation_Salesperson  \\\n",
              "0                 0                                0                       0   \n",
              "1                 0                                0                       0   \n",
              "2                 0                                0                       0   \n",
              "3                 0                                1                       0   \n",
              "4                 0                                1                       0   \n",
              "\n",
              "   ...  Sleep Disorder_Insomnia  Sleep Disorder_None  \\\n",
              "0  ...                        0                    1   \n",
              "1  ...                        0                    1   \n",
              "2  ...                        0                    1   \n",
              "3  ...                        0                    0   \n",
              "4  ...                        0                    0   \n",
              "\n",
              "   Sleep Disorder_Sleep Apnea  Age_to_scale  Sleep Duration_to_scale  \\\n",
              "0                           0       0.00000                 0.111111   \n",
              "1                           0       0.03125                 0.148148   \n",
              "2                           0       0.03125                 0.148148   \n",
              "3                           1       0.03125                 0.037037   \n",
              "4                           1       0.03125                 0.037037   \n",
              "\n",
              "   Quality of Sleep_to_scale  Daily Steps_to_scale  Heart Rate_to_scale  \\\n",
              "0                        0.4              0.171429             0.571429   \n",
              "1                        0.4              1.000000             0.476190   \n",
              "2                        0.4              1.000000             0.476190   \n",
              "3                        0.0              0.000000             0.952381   \n",
              "4                        0.0              0.000000             0.952381   \n",
              "\n",
              "   Systolic_BP_to_scale  Diastolic_BP_to_scale  \n",
              "0              0.407407                   0.40  \n",
              "1              0.370370                   0.25  \n",
              "2              0.370370                   0.25  \n",
              "3              0.925926                   0.75  \n",
              "4              0.925926                   0.75  \n",
              "\n",
              "[5 rows x 27 columns]"
            ],
            "text/html": [
              "\n",
              "  <div id=\"df-fe41a71e-3a0d-4183-a59c-263190a1c2df\" class=\"colab-df-container\">\n",
              "    <div>\n",
              "<style scoped>\n",
              "    .dataframe tbody tr th:only-of-type {\n",
              "        vertical-align: middle;\n",
              "    }\n",
              "\n",
              "    .dataframe tbody tr th {\n",
              "        vertical-align: top;\n",
              "    }\n",
              "\n",
              "    .dataframe thead th {\n",
              "        text-align: right;\n",
              "    }\n",
              "</style>\n",
              "<table border=\"1\" class=\"dataframe\">\n",
              "  <thead>\n",
              "    <tr style=\"text-align: right;\">\n",
              "      <th></th>\n",
              "      <th>Gender_Female</th>\n",
              "      <th>Gender_Male</th>\n",
              "      <th>Occupation_Accountant</th>\n",
              "      <th>Occupation_Doctor</th>\n",
              "      <th>Occupation_Engineer</th>\n",
              "      <th>Occupation_Lawyer</th>\n",
              "      <th>Occupation_Manager</th>\n",
              "      <th>Occupation_Nurse</th>\n",
              "      <th>Occupation_Sales Representative</th>\n",
              "      <th>Occupation_Salesperson</th>\n",
              "      <th>...</th>\n",
              "      <th>Sleep Disorder_Insomnia</th>\n",
              "      <th>Sleep Disorder_None</th>\n",
              "      <th>Sleep Disorder_Sleep Apnea</th>\n",
              "      <th>Age_to_scale</th>\n",
              "      <th>Sleep Duration_to_scale</th>\n",
              "      <th>Quality of Sleep_to_scale</th>\n",
              "      <th>Daily Steps_to_scale</th>\n",
              "      <th>Heart Rate_to_scale</th>\n",
              "      <th>Systolic_BP_to_scale</th>\n",
              "      <th>Diastolic_BP_to_scale</th>\n",
              "    </tr>\n",
              "  </thead>\n",
              "  <tbody>\n",
              "    <tr>\n",
              "      <th>0</th>\n",
              "      <td>0</td>\n",
              "      <td>1</td>\n",
              "      <td>0</td>\n",
              "      <td>0</td>\n",
              "      <td>0</td>\n",
              "      <td>0</td>\n",
              "      <td>0</td>\n",
              "      <td>0</td>\n",
              "      <td>0</td>\n",
              "      <td>0</td>\n",
              "      <td>...</td>\n",
              "      <td>0</td>\n",
              "      <td>1</td>\n",
              "      <td>0</td>\n",
              "      <td>0.00000</td>\n",
              "      <td>0.111111</td>\n",
              "      <td>0.4</td>\n",
              "      <td>0.171429</td>\n",
              "      <td>0.571429</td>\n",
              "      <td>0.407407</td>\n",
              "      <td>0.40</td>\n",
              "    </tr>\n",
              "    <tr>\n",
              "      <th>1</th>\n",
              "      <td>0</td>\n",
              "      <td>1</td>\n",
              "      <td>0</td>\n",
              "      <td>1</td>\n",
              "      <td>0</td>\n",
              "      <td>0</td>\n",
              "      <td>0</td>\n",
              "      <td>0</td>\n",
              "      <td>0</td>\n",
              "      <td>0</td>\n",
              "      <td>...</td>\n",
              "      <td>0</td>\n",
              "      <td>1</td>\n",
              "      <td>0</td>\n",
              "      <td>0.03125</td>\n",
              "      <td>0.148148</td>\n",
              "      <td>0.4</td>\n",
              "      <td>1.000000</td>\n",
              "      <td>0.476190</td>\n",
              "      <td>0.370370</td>\n",
              "      <td>0.25</td>\n",
              "    </tr>\n",
              "    <tr>\n",
              "      <th>2</th>\n",
              "      <td>0</td>\n",
              "      <td>1</td>\n",
              "      <td>0</td>\n",
              "      <td>1</td>\n",
              "      <td>0</td>\n",
              "      <td>0</td>\n",
              "      <td>0</td>\n",
              "      <td>0</td>\n",
              "      <td>0</td>\n",
              "      <td>0</td>\n",
              "      <td>...</td>\n",
              "      <td>0</td>\n",
              "      <td>1</td>\n",
              "      <td>0</td>\n",
              "      <td>0.03125</td>\n",
              "      <td>0.148148</td>\n",
              "      <td>0.4</td>\n",
              "      <td>1.000000</td>\n",
              "      <td>0.476190</td>\n",
              "      <td>0.370370</td>\n",
              "      <td>0.25</td>\n",
              "    </tr>\n",
              "    <tr>\n",
              "      <th>3</th>\n",
              "      <td>0</td>\n",
              "      <td>1</td>\n",
              "      <td>0</td>\n",
              "      <td>0</td>\n",
              "      <td>0</td>\n",
              "      <td>0</td>\n",
              "      <td>0</td>\n",
              "      <td>0</td>\n",
              "      <td>1</td>\n",
              "      <td>0</td>\n",
              "      <td>...</td>\n",
              "      <td>0</td>\n",
              "      <td>0</td>\n",
              "      <td>1</td>\n",
              "      <td>0.03125</td>\n",
              "      <td>0.037037</td>\n",
              "      <td>0.0</td>\n",
              "      <td>0.000000</td>\n",
              "      <td>0.952381</td>\n",
              "      <td>0.925926</td>\n",
              "      <td>0.75</td>\n",
              "    </tr>\n",
              "    <tr>\n",
              "      <th>4</th>\n",
              "      <td>0</td>\n",
              "      <td>1</td>\n",
              "      <td>0</td>\n",
              "      <td>0</td>\n",
              "      <td>0</td>\n",
              "      <td>0</td>\n",
              "      <td>0</td>\n",
              "      <td>0</td>\n",
              "      <td>1</td>\n",
              "      <td>0</td>\n",
              "      <td>...</td>\n",
              "      <td>0</td>\n",
              "      <td>0</td>\n",
              "      <td>1</td>\n",
              "      <td>0.03125</td>\n",
              "      <td>0.037037</td>\n",
              "      <td>0.0</td>\n",
              "      <td>0.000000</td>\n",
              "      <td>0.952381</td>\n",
              "      <td>0.925926</td>\n",
              "      <td>0.75</td>\n",
              "    </tr>\n",
              "  </tbody>\n",
              "</table>\n",
              "<p>5 rows × 27 columns</p>\n",
              "</div>\n",
              "    <div class=\"colab-df-buttons\">\n",
              "\n",
              "  <div class=\"colab-df-container\">\n",
              "    <button class=\"colab-df-convert\" onclick=\"convertToInteractive('df-fe41a71e-3a0d-4183-a59c-263190a1c2df')\"\n",
              "            title=\"Convert this dataframe to an interactive table.\"\n",
              "            style=\"display:none;\">\n",
              "\n",
              "  <svg xmlns=\"http://www.w3.org/2000/svg\" height=\"24px\" viewBox=\"0 -960 960 960\">\n",
              "    <path d=\"M120-120v-720h720v720H120Zm60-500h600v-160H180v160Zm220 220h160v-160H400v160Zm0 220h160v-160H400v160ZM180-400h160v-160H180v160Zm440 0h160v-160H620v160ZM180-180h160v-160H180v160Zm440 0h160v-160H620v160Z\"/>\n",
              "  </svg>\n",
              "    </button>\n",
              "\n",
              "  <style>\n",
              "    .colab-df-container {\n",
              "      display:flex;\n",
              "      gap: 12px;\n",
              "    }\n",
              "\n",
              "    .colab-df-convert {\n",
              "      background-color: #E8F0FE;\n",
              "      border: none;\n",
              "      border-radius: 50%;\n",
              "      cursor: pointer;\n",
              "      display: none;\n",
              "      fill: #1967D2;\n",
              "      height: 32px;\n",
              "      padding: 0 0 0 0;\n",
              "      width: 32px;\n",
              "    }\n",
              "\n",
              "    .colab-df-convert:hover {\n",
              "      background-color: #E2EBFA;\n",
              "      box-shadow: 0px 1px 2px rgba(60, 64, 67, 0.3), 0px 1px 3px 1px rgba(60, 64, 67, 0.15);\n",
              "      fill: #174EA6;\n",
              "    }\n",
              "\n",
              "    .colab-df-buttons div {\n",
              "      margin-bottom: 4px;\n",
              "    }\n",
              "\n",
              "    [theme=dark] .colab-df-convert {\n",
              "      background-color: #3B4455;\n",
              "      fill: #D2E3FC;\n",
              "    }\n",
              "\n",
              "    [theme=dark] .colab-df-convert:hover {\n",
              "      background-color: #434B5C;\n",
              "      box-shadow: 0px 1px 3px 1px rgba(0, 0, 0, 0.15);\n",
              "      filter: drop-shadow(0px 1px 2px rgba(0, 0, 0, 0.3));\n",
              "      fill: #FFFFFF;\n",
              "    }\n",
              "  </style>\n",
              "\n",
              "    <script>\n",
              "      const buttonEl =\n",
              "        document.querySelector('#df-fe41a71e-3a0d-4183-a59c-263190a1c2df button.colab-df-convert');\n",
              "      buttonEl.style.display =\n",
              "        google.colab.kernel.accessAllowed ? 'block' : 'none';\n",
              "\n",
              "      async function convertToInteractive(key) {\n",
              "        const element = document.querySelector('#df-fe41a71e-3a0d-4183-a59c-263190a1c2df');\n",
              "        const dataTable =\n",
              "          await google.colab.kernel.invokeFunction('convertToInteractive',\n",
              "                                                    [key], {});\n",
              "        if (!dataTable) return;\n",
              "\n",
              "        const docLinkHtml = 'Like what you see? Visit the ' +\n",
              "          '<a target=\"_blank\" href=https://colab.research.google.com/notebooks/data_table.ipynb>data table notebook</a>'\n",
              "          + ' to learn more about interactive tables.';\n",
              "        element.innerHTML = '';\n",
              "        dataTable['output_type'] = 'display_data';\n",
              "        await google.colab.output.renderOutput(dataTable, element);\n",
              "        const docLink = document.createElement('div');\n",
              "        docLink.innerHTML = docLinkHtml;\n",
              "        element.appendChild(docLink);\n",
              "      }\n",
              "    </script>\n",
              "  </div>\n",
              "\n",
              "\n",
              "<div id=\"df-620f737d-1898-4080-91a3-31205eec4476\">\n",
              "  <button class=\"colab-df-quickchart\" onclick=\"quickchart('df-620f737d-1898-4080-91a3-31205eec4476')\"\n",
              "            title=\"Suggest charts.\"\n",
              "            style=\"display:none;\">\n",
              "\n",
              "<svg xmlns=\"http://www.w3.org/2000/svg\" height=\"24px\"viewBox=\"0 0 24 24\"\n",
              "     width=\"24px\">\n",
              "    <g>\n",
              "        <path d=\"M19 3H5c-1.1 0-2 .9-2 2v14c0 1.1.9 2 2 2h14c1.1 0 2-.9 2-2V5c0-1.1-.9-2-2-2zM9 17H7v-7h2v7zm4 0h-2V7h2v10zm4 0h-2v-4h2v4z\"/>\n",
              "    </g>\n",
              "</svg>\n",
              "  </button>\n",
              "\n",
              "<style>\n",
              "  .colab-df-quickchart {\n",
              "      --bg-color: #E8F0FE;\n",
              "      --fill-color: #1967D2;\n",
              "      --hover-bg-color: #E2EBFA;\n",
              "      --hover-fill-color: #174EA6;\n",
              "      --disabled-fill-color: #AAA;\n",
              "      --disabled-bg-color: #DDD;\n",
              "  }\n",
              "\n",
              "  [theme=dark] .colab-df-quickchart {\n",
              "      --bg-color: #3B4455;\n",
              "      --fill-color: #D2E3FC;\n",
              "      --hover-bg-color: #434B5C;\n",
              "      --hover-fill-color: #FFFFFF;\n",
              "      --disabled-bg-color: #3B4455;\n",
              "      --disabled-fill-color: #666;\n",
              "  }\n",
              "\n",
              "  .colab-df-quickchart {\n",
              "    background-color: var(--bg-color);\n",
              "    border: none;\n",
              "    border-radius: 50%;\n",
              "    cursor: pointer;\n",
              "    display: none;\n",
              "    fill: var(--fill-color);\n",
              "    height: 32px;\n",
              "    padding: 0;\n",
              "    width: 32px;\n",
              "  }\n",
              "\n",
              "  .colab-df-quickchart:hover {\n",
              "    background-color: var(--hover-bg-color);\n",
              "    box-shadow: 0 1px 2px rgba(60, 64, 67, 0.3), 0 1px 3px 1px rgba(60, 64, 67, 0.15);\n",
              "    fill: var(--button-hover-fill-color);\n",
              "  }\n",
              "\n",
              "  .colab-df-quickchart-complete:disabled,\n",
              "  .colab-df-quickchart-complete:disabled:hover {\n",
              "    background-color: var(--disabled-bg-color);\n",
              "    fill: var(--disabled-fill-color);\n",
              "    box-shadow: none;\n",
              "  }\n",
              "\n",
              "  .colab-df-spinner {\n",
              "    border: 2px solid var(--fill-color);\n",
              "    border-color: transparent;\n",
              "    border-bottom-color: var(--fill-color);\n",
              "    animation:\n",
              "      spin 1s steps(1) infinite;\n",
              "  }\n",
              "\n",
              "  @keyframes spin {\n",
              "    0% {\n",
              "      border-color: transparent;\n",
              "      border-bottom-color: var(--fill-color);\n",
              "      border-left-color: var(--fill-color);\n",
              "    }\n",
              "    20% {\n",
              "      border-color: transparent;\n",
              "      border-left-color: var(--fill-color);\n",
              "      border-top-color: var(--fill-color);\n",
              "    }\n",
              "    30% {\n",
              "      border-color: transparent;\n",
              "      border-left-color: var(--fill-color);\n",
              "      border-top-color: var(--fill-color);\n",
              "      border-right-color: var(--fill-color);\n",
              "    }\n",
              "    40% {\n",
              "      border-color: transparent;\n",
              "      border-right-color: var(--fill-color);\n",
              "      border-top-color: var(--fill-color);\n",
              "    }\n",
              "    60% {\n",
              "      border-color: transparent;\n",
              "      border-right-color: var(--fill-color);\n",
              "    }\n",
              "    80% {\n",
              "      border-color: transparent;\n",
              "      border-right-color: var(--fill-color);\n",
              "      border-bottom-color: var(--fill-color);\n",
              "    }\n",
              "    90% {\n",
              "      border-color: transparent;\n",
              "      border-bottom-color: var(--fill-color);\n",
              "    }\n",
              "  }\n",
              "</style>\n",
              "\n",
              "  <script>\n",
              "    async function quickchart(key) {\n",
              "      const quickchartButtonEl =\n",
              "        document.querySelector('#' + key + ' button');\n",
              "      quickchartButtonEl.disabled = true;  // To prevent multiple clicks.\n",
              "      quickchartButtonEl.classList.add('colab-df-spinner');\n",
              "      try {\n",
              "        const charts = await google.colab.kernel.invokeFunction(\n",
              "            'suggestCharts', [key], {});\n",
              "      } catch (error) {\n",
              "        console.error('Error during call to suggestCharts:', error);\n",
              "      }\n",
              "      quickchartButtonEl.classList.remove('colab-df-spinner');\n",
              "      quickchartButtonEl.classList.add('colab-df-quickchart-complete');\n",
              "    }\n",
              "    (() => {\n",
              "      let quickchartButtonEl =\n",
              "        document.querySelector('#df-620f737d-1898-4080-91a3-31205eec4476 button');\n",
              "      quickchartButtonEl.style.display =\n",
              "        google.colab.kernel.accessAllowed ? 'block' : 'none';\n",
              "    })();\n",
              "  </script>\n",
              "</div>\n",
              "    </div>\n",
              "  </div>\n"
            ]
          },
          "metadata": {},
          "execution_count": 29
        }
      ]
    },
    {
      "cell_type": "markdown",
      "source": [
        "\n",
        "# Feature Selection\n",
        "\n",
        "\n"
      ],
      "metadata": {
        "id": "XJ3ggbfIKmai"
      }
    },
    {
      "cell_type": "code",
      "source": [
        "from sklearn.preprocessing import StandardScaler\n",
        "from sklearn.feature_selection import SelectKBest, f_classif\n",
        "from sklearn.datasets import make_classification\n",
        "from sklearn.model_selection import train_test_split\n",
        "from sklearn.svm import SVC\n",
        "from sklearn.metrics import accuracy_score, confusion_matrix, classification_report\n",
        "import matplotlib.pyplot as plt\n",
        "from sklearn.linear_model import LogisticRegression\n",
        "\n",
        "X=d_2\n",
        "y=d['Stress Level']\n",
        "k_values = range(1, 28)\n",
        "\n",
        "# Split the data into training and testing sets\n",
        "X_train, X_test, y_train, y_test = train_test_split(X, y, test_size=0.2, random_state=42)\n",
        "classifiers=[SVC(kernel='linear', C=1.0, random_state=42),LogisticRegression()]\n",
        "# Iterate over different values of k\n",
        "for classifier in classifiers:\n",
        "  accuracy_scores = []\n",
        "  for k in k_values:\n",
        "    # Create SelectKBest object with k best features based on ANOVA F-value\n",
        "    selector = SelectKBest(score_func=f_classif, k=k)\n",
        "    X_train_kbest = selector.fit_transform(X_train, y_train)\n",
        "    X_test_kbest = selector.transform(X_test)\n",
        "\n",
        "\n",
        "\n",
        "    classifier.fit(X_train_kbest, y_train)\n",
        "\n",
        "    # Evaluate the model's accuracy on the test set\n",
        "    accuracy = classifier.score(X_test_kbest, y_test)\n",
        "    accuracy_scores.append(accuracy)\n",
        "\n",
        "\n",
        "  plt.figure(figsize=(10, 6))\n",
        "  plt.plot(k_values, accuracy_scores, marker='o', linestyle='-')\n",
        "  plt.title('Accuracy vs. Number of Features (k) Using SelectKBest for SVC model')\n",
        "  plt.xlabel('Number of Features (k)')\n",
        "  plt.ylabel('Accuracy')\n",
        "  plt.grid(True)\n",
        "  plt.xticks(k_values)\n",
        "  plt.show()"
      ],
      "metadata": {
        "colab": {
          "base_uri": "https://localhost:8080/",
          "height": 1000
        },
        "id": "pc-ieZlgMQ3u",
        "outputId": "65da3e3e-1b10-4667-85e9-fbbbfc197d99"
      },
      "execution_count": null,
      "outputs": [
        {
          "output_type": "display_data",
          "data": {
            "text/plain": [
              "<Figure size 1000x600 with 1 Axes>"
            ],
            "image/png": "[encoded data removed]"
          },
          "metadata": {}
        },
        {
          "output_type": "display_data",
          "data": {
            "text/plain": [
              "<Figure size 1000x600 with 1 Axes>"
            ],
            "image/png": "[encoded data removed]"
          },
          "metadata": {}
        }
      ]
    },
    {
      "cell_type": "markdown",
      "source": [
        "**We used SelectKBest and fclassif to train the model using the k most important feautures for k from 1 to 27 (total number of feautures). It looks like from the above graphs, for both models the accuracy of the models does not change that much if we reduce the number of our features to 6 or 7.**"
      ],
      "metadata": {
        "id": "xg4ry3wSwXde"
      }
    },
    {
      "cell_type": "markdown",
      "source": [
        "**Now let's look at the most important features in descending order:**"
      ],
      "metadata": {
        "id": "3d_l5LYwxaQP"
      }
    },
    {
      "cell_type": "code",
      "source": [
        "import numpy as np\n",
        "\n",
        "selector = SelectKBest(score_func=f_classif, k=k)\n",
        "selector.fit_transform(X, y)\n",
        "# Get the indices of the selected features\n",
        "selected_feature_indices = selector.get_support(indices=True)\n",
        "# Get the feature scores and indices\n",
        "feature_scores = selector.scores_\n",
        "# Get the names of the selected features\n",
        "selected_feature_names = X.columns[selected_feature_indices]\n",
        "selected_feature_indices = np.argsort(feature_scores)[::-1][:k]\n",
        "\n",
        "# Get the names of the selected features in descending order of importance\n",
        "selected_feature_names = X.columns[selected_feature_indices]\n",
        "# Print the names of the best 20 features\n",
        "print(\"The most important features in descending order:\")\n",
        "for feature in selected_feature_names:\n",
        "    print(feature)"
      ],
      "metadata": {
        "colab": {
          "base_uri": "https://localhost:8080/"
        },
        "id": "Qog8j85QMflv",
        "outputId": "383041f6-4269-4d56-9ec2-43c9b05c92c3"
      },
      "execution_count": null,
      "outputs": [
        {
          "output_type": "stream",
          "name": "stdout",
          "text": [
            "The most important features in descending order:\n",
            "Quality of Sleep_to_scale\n",
            "Sleep Duration_to_scale\n",
            "Occupation_Salesperson\n",
            "Occupation_Lawyer\n",
            "Age_to_scale\n",
            "Gender_Female\n",
            "Gender_Male\n",
            "Heart Rate_to_scale\n",
            "Sleep Disorder_Insomnia\n",
            "Occupation_Doctor\n",
            "Occupation_Teacher\n",
            "Sleep Disorder_None\n",
            "BMI Category_Overweight\n",
            "BMI Category_Normal\n",
            "Occupation_Nurse\n",
            "Systolic_BP_to_scale\n",
            "Sleep Disorder_Sleep Apnea\n",
            "Daily Steps_to_scale\n",
            "Occupation_Accountant\n",
            "Occupation_Engineer\n",
            "Diastolic_BP_to_scale\n",
            "BMI Category_Normal Weight\n",
            "Occupation_Scientist\n",
            "Occupation_Sales Representative\n",
            "BMI Category_Obese\n",
            "Occupation_Software Engineer\n",
            "Occupation_Manager\n"
          ]
        }
      ]
    },
    {
      "cell_type": "markdown",
      "source": [
        "**So, based on the discussion above and the list of most imporatnt features, we see that if we remove the features related Sleep Disorder, BMI, Daily Steps_to_scale, Systolic_BP_to_scale, and Heart Rate_to_scale. We still keep the features related to the Occupation since Occupation_Salesperson and\n",
        "Occupation_Lawyer are in the list of top 6 features.**"
      ],
      "metadata": {
        "id": "bhvBjs42x8Ow"
      }
    },
    {
      "cell_type": "markdown",
      "source": [
        "**Let's remove the columns mentioned above, and make a new dataframe and call it d_3:**"
      ],
      "metadata": {
        "id": "Z6Lkdx-_zaeX"
      }
    },
    {
      "cell_type": "code",
      "source": [
        "d_3=d_2.drop(['Heart Rate_to_scale', 'Sleep Disorder_Insomnia','Sleep Disorder_None','BMI Category_Overweight', 'BMI Category_Normal','Systolic_BP_to_scale','Sleep Disorder_Sleep Apnea','Daily Steps_to_scale','Diastolic_BP_to_scale','BMI Category_Normal Weight','BMI Category_Obese'], axis=1)"
      ],
      "metadata": {
        "id": "Y72xIQdgzrWb"
      },
      "execution_count": null,
      "outputs": []
    },
    {
      "cell_type": "code",
      "source": [
        "d_3.head()"
      ],
      "metadata": {
        "colab": {
          "base_uri": "https://localhost:8080/",
          "height": 244
        },
        "id": "15c7XlV21BqW",
        "outputId": "24e7a790-ed7f-4898-b094-7fd628a0cc04"
      },
      "execution_count": null,
      "outputs": [
        {
          "output_type": "execute_result",
          "data": {
            "text/plain": [
              "   Gender_Female  Gender_Male  Occupation_Accountant  Occupation_Doctor  \\\n",
              "0              0            1                      0                  0   \n",
              "1              0            1                      0                  1   \n",
              "2              0            1                      0                  1   \n",
              "3              0            1                      0                  0   \n",
              "4              0            1                      0                  0   \n",
              "\n",
              "   Occupation_Engineer  Occupation_Lawyer  Occupation_Manager  \\\n",
              "0                    0                  0                   0   \n",
              "1                    0                  0                   0   \n",
              "2                    0                  0                   0   \n",
              "3                    0                  0                   0   \n",
              "4                    0                  0                   0   \n",
              "\n",
              "   Occupation_Nurse  Occupation_Sales Representative  Occupation_Salesperson  \\\n",
              "0                 0                                0                       0   \n",
              "1                 0                                0                       0   \n",
              "2                 0                                0                       0   \n",
              "3                 0                                1                       0   \n",
              "4                 0                                1                       0   \n",
              "\n",
              "   Occupation_Scientist  Occupation_Software Engineer  Occupation_Teacher  \\\n",
              "0                     0                             1                   0   \n",
              "1                     0                             0                   0   \n",
              "2                     0                             0                   0   \n",
              "3                     0                             0                   0   \n",
              "4                     0                             0                   0   \n",
              "\n",
              "   Age_to_scale  Sleep Duration_to_scale  Quality of Sleep_to_scale  \n",
              "0       0.00000                 0.111111                        0.4  \n",
              "1       0.03125                 0.148148                        0.4  \n",
              "2       0.03125                 0.148148                        0.4  \n",
              "3       0.03125                 0.037037                        0.0  \n",
              "4       0.03125                 0.037037                        0.0  "
            ],
            "text/html": [
              "\n",
              "  <div id=\"df-a12bc0aa-f039-4af8-9d5b-9e5b557c3638\" class=\"colab-df-container\">\n",
              "    <div>\n",
              "<style scoped>\n",
              "    .dataframe tbody tr th:only-of-type {\n",
              "        vertical-align: middle;\n",
              "    }\n",
              "\n",
              "    .dataframe tbody tr th {\n",
              "        vertical-align: top;\n",
              "    }\n",
              "\n",
              "    .dataframe thead th {\n",
              "        text-align: right;\n",
              "    }\n",
              "</style>\n",
              "<table border=\"1\" class=\"dataframe\">\n",
              "  <thead>\n",
              "    <tr style=\"text-align: right;\">\n",
              "      <th></th>\n",
              "      <th>Gender_Female</th>\n",
              "      <th>Gender_Male</th>\n",
              "      <th>Occupation_Accountant</th>\n",
              "      <th>Occupation_Doctor</th>\n",
              "      <th>Occupation_Engineer</th>\n",
              "      <th>Occupation_Lawyer</th>\n",
              "      <th>Occupation_Manager</th>\n",
              "      <th>Occupation_Nurse</th>\n",
              "      <th>Occupation_Sales Representative</th>\n",
              "      <th>Occupation_Salesperson</th>\n",
              "      <th>Occupation_Scientist</th>\n",
              "      <th>Occupation_Software Engineer</th>\n",
              "      <th>Occupation_Teacher</th>\n",
              "      <th>Age_to_scale</th>\n",
              "      <th>Sleep Duration_to_scale</th>\n",
              "      <th>Quality of Sleep_to_scale</th>\n",
              "    </tr>\n",
              "  </thead>\n",
              "  <tbody>\n",
              "    <tr>\n",
              "      <th>0</th>\n",
              "      <td>0</td>\n",
              "      <td>1</td>\n",
              "      <td>0</td>\n",
              "      <td>0</td>\n",
              "      <td>0</td>\n",
              "      <td>0</td>\n",
              "      <td>0</td>\n",
              "      <td>0</td>\n",
              "      <td>0</td>\n",
              "      <td>0</td>\n",
              "      <td>0</td>\n",
              "      <td>1</td>\n",
              "      <td>0</td>\n",
              "      <td>0.00000</td>\n",
              "      <td>0.111111</td>\n",
              "      <td>0.4</td>\n",
              "    </tr>\n",
              "    <tr>\n",
              "      <th>1</th>\n",
              "      <td>0</td>\n",
              "      <td>1</td>\n",
              "      <td>0</td>\n",
              "      <td>1</td>\n",
              "      <td>0</td>\n",
              "      <td>0</td>\n",
              "      <td>0</td>\n",
              "      <td>0</td>\n",
              "      <td>0</td>\n",
              "      <td>0</td>\n",
              "      <td>0</td>\n",
              "      <td>0</td>\n",
              "      <td>0</td>\n",
              "      <td>0.03125</td>\n",
              "      <td>0.148148</td>\n",
              "      <td>0.4</td>\n",
              "    </tr>\n",
              "    <tr>\n",
              "      <th>2</th>\n",
              "      <td>0</td>\n",
              "      <td>1</td>\n",
              "      <td>0</td>\n",
              "      <td>1</td>\n",
              "      <td>0</td>\n",
              "      <td>0</td>\n",
              "      <td>0</td>\n",
              "      <td>0</td>\n",
              "      <td>0</td>\n",
              "      <td>0</td>\n",
              "      <td>0</td>\n",
              "      <td>0</td>\n",
              "      <td>0</td>\n",
              "      <td>0.03125</td>\n",
              "      <td>0.148148</td>\n",
              "      <td>0.4</td>\n",
              "    </tr>\n",
              "    <tr>\n",
              "      <th>3</th>\n",
              "      <td>0</td>\n",
              "      <td>1</td>\n",
              "      <td>0</td>\n",
              "      <td>0</td>\n",
              "      <td>0</td>\n",
              "      <td>0</td>\n",
              "      <td>0</td>\n",
              "      <td>0</td>\n",
              "      <td>1</td>\n",
              "      <td>0</td>\n",
              "      <td>0</td>\n",
              "      <td>0</td>\n",
              "      <td>0</td>\n",
              "      <td>0.03125</td>\n",
              "      <td>0.037037</td>\n",
              "      <td>0.0</td>\n",
              "    </tr>\n",
              "    <tr>\n",
              "      <th>4</th>\n",
              "      <td>0</td>\n",
              "      <td>1</td>\n",
              "      <td>0</td>\n",
              "      <td>0</td>\n",
              "      <td>0</td>\n",
              "      <td>0</td>\n",
              "      <td>0</td>\n",
              "      <td>0</td>\n",
              "      <td>1</td>\n",
              "      <td>0</td>\n",
              "      <td>0</td>\n",
              "      <td>0</td>\n",
              "      <td>0</td>\n",
              "      <td>0.03125</td>\n",
              "      <td>0.037037</td>\n",
              "      <td>0.0</td>\n",
              "    </tr>\n",
              "  </tbody>\n",
              "</table>\n",
              "</div>\n",
              "    <div class=\"colab-df-buttons\">\n",
              "\n",
              "  <div class=\"colab-df-container\">\n",
              "    <button class=\"colab-df-convert\" onclick=\"convertToInteractive('df-a12bc0aa-f039-4af8-9d5b-9e5b557c3638')\"\n",
              "            title=\"Convert this dataframe to an interactive table.\"\n",
              "            style=\"display:none;\">\n",
              "\n",
              "  <svg xmlns=\"http://www.w3.org/2000/svg\" height=\"24px\" viewBox=\"0 -960 960 960\">\n",
              "    <path d=\"M120-120v-720h720v720H120Zm60-500h600v-160H180v160Zm220 220h160v-160H400v160Zm0 220h160v-160H400v160ZM180-400h160v-160H180v160Zm440 0h160v-160H620v160ZM180-180h160v-160H180v160Zm440 0h160v-160H620v160Z\"/>\n",
              "  </svg>\n",
              "    </button>\n",
              "\n",
              "  <style>\n",
              "    .colab-df-container {\n",
              "      display:flex;\n",
              "      gap: 12px;\n",
              "    }\n",
              "\n",
              "    .colab-df-convert {\n",
              "      background-color: #E8F0FE;\n",
              "      border: none;\n",
              "      border-radius: 50%;\n",
              "      cursor: pointer;\n",
              "      display: none;\n",
              "      fill: #1967D2;\n",
              "      height: 32px;\n",
              "      padding: 0 0 0 0;\n",
              "      width: 32px;\n",
              "    }\n",
              "\n",
              "    .colab-df-convert:hover {\n",
              "      background-color: #E2EBFA;\n",
              "      box-shadow: 0px 1px 2px rgba(60, 64, 67, 0.3), 0px 1px 3px 1px rgba(60, 64, 67, 0.15);\n",
              "      fill: #174EA6;\n",
              "    }\n",
              "\n",
              "    .colab-df-buttons div {\n",
              "      margin-bottom: 4px;\n",
              "    }\n",
              "\n",
              "    [theme=dark] .colab-df-convert {\n",
              "      background-color: #3B4455;\n",
              "      fill: #D2E3FC;\n",
              "    }\n",
              "\n",
              "    [theme=dark] .colab-df-convert:hover {\n",
              "      background-color: #434B5C;\n",
              "      box-shadow: 0px 1px 3px 1px rgba(0, 0, 0, 0.15);\n",
              "      filter: drop-shadow(0px 1px 2px rgba(0, 0, 0, 0.3));\n",
              "      fill: #FFFFFF;\n",
              "    }\n",
              "  </style>\n",
              "\n",
              "    <script>\n",
              "      const buttonEl =\n",
              "        document.querySelector('#df-a12bc0aa-f039-4af8-9d5b-9e5b557c3638 button.colab-df-convert');\n",
              "      buttonEl.style.display =\n",
              "        google.colab.kernel.accessAllowed ? 'block' : 'none';\n",
              "\n",
              "      async function convertToInteractive(key) {\n",
              "        const element = document.querySelector('#df-a12bc0aa-f039-4af8-9d5b-9e5b557c3638');\n",
              "        const dataTable =\n",
              "          await google.colab.kernel.invokeFunction('convertToInteractive',\n",
              "                                                    [key], {});\n",
              "        if (!dataTable) return;\n",
              "\n",
              "        const docLinkHtml = 'Like what you see? Visit the ' +\n",
              "          '<a target=\"_blank\" href=https://colab.research.google.com/notebooks/data_table.ipynb>data table notebook</a>'\n",
              "          + ' to learn more about interactive tables.';\n",
              "        element.innerHTML = '';\n",
              "        dataTable['output_type'] = 'display_data';\n",
              "        await google.colab.output.renderOutput(dataTable, element);\n",
              "        const docLink = document.createElement('div');\n",
              "        docLink.innerHTML = docLinkHtml;\n",
              "        element.appendChild(docLink);\n",
              "      }\n",
              "    </script>\n",
              "  </div>\n",
              "\n",
              "\n",
              "<div id=\"df-078515aa-6d2f-4ec8-ab45-73c08881cdab\">\n",
              "  <button class=\"colab-df-quickchart\" onclick=\"quickchart('df-078515aa-6d2f-4ec8-ab45-73c08881cdab')\"\n",
              "            title=\"Suggest charts.\"\n",
              "            style=\"display:none;\">\n",
              "\n",
              "<svg xmlns=\"http://www.w3.org/2000/svg\" height=\"24px\"viewBox=\"0 0 24 24\"\n",
              "     width=\"24px\">\n",
              "    <g>\n",
              "        <path d=\"M19 3H5c-1.1 0-2 .9-2 2v14c0 1.1.9 2 2 2h14c1.1 0 2-.9 2-2V5c0-1.1-.9-2-2-2zM9 17H7v-7h2v7zm4 0h-2V7h2v10zm4 0h-2v-4h2v4z\"/>\n",
              "    </g>\n",
              "</svg>\n",
              "  </button>\n",
              "\n",
              "<style>\n",
              "  .colab-df-quickchart {\n",
              "      --bg-color: #E8F0FE;\n",
              "      --fill-color: #1967D2;\n",
              "      --hover-bg-color: #E2EBFA;\n",
              "      --hover-fill-color: #174EA6;\n",
              "      --disabled-fill-color: #AAA;\n",
              "      --disabled-bg-color: #DDD;\n",
              "  }\n",
              "\n",
              "  [theme=dark] .colab-df-quickchart {\n",
              "      --bg-color: #3B4455;\n",
              "      --fill-color: #D2E3FC;\n",
              "      --hover-bg-color: #434B5C;\n",
              "      --hover-fill-color: #FFFFFF;\n",
              "      --disabled-bg-color: #3B4455;\n",
              "      --disabled-fill-color: #666;\n",
              "  }\n",
              "\n",
              "  .colab-df-quickchart {\n",
              "    background-color: var(--bg-color);\n",
              "    border: none;\n",
              "    border-radius: 50%;\n",
              "    cursor: pointer;\n",
              "    display: none;\n",
              "    fill: var(--fill-color);\n",
              "    height: 32px;\n",
              "    padding: 0;\n",
              "    width: 32px;\n",
              "  }\n",
              "\n",
              "  .colab-df-quickchart:hover {\n",
              "    background-color: var(--hover-bg-color);\n",
              "    box-shadow: 0 1px 2px rgba(60, 64, 67, 0.3), 0 1px 3px 1px rgba(60, 64, 67, 0.15);\n",
              "    fill: var(--button-hover-fill-color);\n",
              "  }\n",
              "\n",
              "  .colab-df-quickchart-complete:disabled,\n",
              "  .colab-df-quickchart-complete:disabled:hover {\n",
              "    background-color: var(--disabled-bg-color);\n",
              "    fill: var(--disabled-fill-color);\n",
              "    box-shadow: none;\n",
              "  }\n",
              "\n",
              "  .colab-df-spinner {\n",
              "    border: 2px solid var(--fill-color);\n",
              "    border-color: transparent;\n",
              "    border-bottom-color: var(--fill-color);\n",
              "    animation:\n",
              "      spin 1s steps(1) infinite;\n",
              "  }\n",
              "\n",
              "  @keyframes spin {\n",
              "    0% {\n",
              "      border-color: transparent;\n",
              "      border-bottom-color: var(--fill-color);\n",
              "      border-left-color: var(--fill-color);\n",
              "    }\n",
              "    20% {\n",
              "      border-color: transparent;\n",
              "      border-left-color: var(--fill-color);\n",
              "      border-top-color: var(--fill-color);\n",
              "    }\n",
              "    30% {\n",
              "      border-color: transparent;\n",
              "      border-left-color: var(--fill-color);\n",
              "      border-top-color: var(--fill-color);\n",
              "      border-right-color: var(--fill-color);\n",
              "    }\n",
              "    40% {\n",
              "      border-color: transparent;\n",
              "      border-right-color: var(--fill-color);\n",
              "      border-top-color: var(--fill-color);\n",
              "    }\n",
              "    60% {\n",
              "      border-color: transparent;\n",
              "      border-right-color: var(--fill-color);\n",
              "    }\n",
              "    80% {\n",
              "      border-color: transparent;\n",
              "      border-right-color: var(--fill-color);\n",
              "      border-bottom-color: var(--fill-color);\n",
              "    }\n",
              "    90% {\n",
              "      border-color: transparent;\n",
              "      border-bottom-color: var(--fill-color);\n",
              "    }\n",
              "  }\n",
              "</style>\n",
              "\n",
              "  <script>\n",
              "    async function quickchart(key) {\n",
              "      const quickchartButtonEl =\n",
              "        document.querySelector('#' + key + ' button');\n",
              "      quickchartButtonEl.disabled = true;  // To prevent multiple clicks.\n",
              "      quickchartButtonEl.classList.add('colab-df-spinner');\n",
              "      try {\n",
              "        const charts = await google.colab.kernel.invokeFunction(\n",
              "            'suggestCharts', [key], {});\n",
              "      } catch (error) {\n",
              "        console.error('Error during call to suggestCharts:', error);\n",
              "      }\n",
              "      quickchartButtonEl.classList.remove('colab-df-spinner');\n",
              "      quickchartButtonEl.classList.add('colab-df-quickchart-complete');\n",
              "    }\n",
              "    (() => {\n",
              "      let quickchartButtonEl =\n",
              "        document.querySelector('#df-078515aa-6d2f-4ec8-ab45-73c08881cdab button');\n",
              "      quickchartButtonEl.style.display =\n",
              "        google.colab.kernel.accessAllowed ? 'block' : 'none';\n",
              "    })();\n",
              "  </script>\n",
              "</div>\n",
              "    </div>\n",
              "  </div>\n"
            ]
          },
          "metadata": {},
          "execution_count": 33
        }
      ]
    },
    {
      "cell_type": "markdown",
      "source": [
        "# **Model Training**"
      ],
      "metadata": {
        "id": "ga65eLt41Jlw"
      }
    },
    {
      "cell_type": "markdown",
      "source": [
        "**First we train our model using Support Vector Machine model and we see that the accuracy is about 90% which is very good:**"
      ],
      "metadata": {
        "id": "vs7rlb8a2Hck"
      }
    },
    {
      "cell_type": "markdown",
      "source": [
        "## **SVC Model**"
      ],
      "metadata": {
        "id": "1Zvr9MNx5Ppt"
      }
    },
    {
      "cell_type": "code",
      "source": [
        "from sklearn.datasets import make_classification\n",
        "from sklearn.model_selection import train_test_split\n",
        "from sklearn.svm import SVC\n",
        "from sklearn.metrics import accuracy_score, confusion_matrix, classification_report\n",
        "import matplotlib.pyplot as plt\n",
        "\n",
        "\n",
        "\n",
        "\n",
        "X=d_3\n",
        "y=d['Stress Level']\n",
        "\n",
        "\n",
        "# Split the data into training and testing sets\n",
        "X_train, X_test, y_train, y_test = train_test_split(X, y, test_size=0.2, random_state=42)\n",
        "\n",
        "\n",
        "# Create an SVM classifier\n",
        "classifier = SVC(kernel='linear', C=1.0, random_state=42)\n",
        "\n",
        "# Train the classifier using the training data\n",
        "classifier.fit(X_train, y_train)\n",
        "\n",
        "# Make predictions using the test data\n",
        "y_pred = classifier.predict(X_test)\n",
        "\n",
        "# Calculate accuracy\n",
        "accuracy = accuracy_score(y_test, y_pred)\n",
        "print(\"Accuracy:\", accuracy)\n",
        "\n",
        "# Generate a classification report\n",
        "print(\"Classification Report:\")\n",
        "print(classification_report(y_test, y_pred))\n",
        "\n",
        "# Display the confusion matrix\n",
        "print(\"Confusion Matrix:\")\n",
        "print(confusion_matrix(y_test, y_pred))\n",
        "\n"
      ],
      "metadata": {
        "colab": {
          "base_uri": "https://localhost:8080/"
        },
        "id": "ujIzTzggA5Lk",
        "outputId": "c88a74c1-693d-45fd-cfde-1f106784fa43"
      },
      "execution_count": null,
      "outputs": [
        {
          "output_type": "stream",
          "name": "stdout",
          "text": [
            "Accuracy: 0.8933333333333333\n",
            "Classification Report:\n",
            "              precision    recall  f1-score   support\n",
            "\n",
            "           3       1.00      1.00      1.00        12\n",
            "           4       0.80      0.80      0.80        10\n",
            "           5       0.86      0.86      0.86        14\n",
            "           6       0.89      0.80      0.84        10\n",
            "           7       0.85      0.92      0.88        12\n",
            "           8       0.94      0.94      0.94        17\n",
            "\n",
            "    accuracy                           0.89        75\n",
            "   macro avg       0.89      0.89      0.89        75\n",
            "weighted avg       0.89      0.89      0.89        75\n",
            "\n",
            "Confusion Matrix:\n",
            "[[12  0  0  0  0  0]\n",
            " [ 0  8  2  0  0  0]\n",
            " [ 0  1 12  1  0  0]\n",
            " [ 0  1  0  8  1  0]\n",
            " [ 0  0  0  0 11  1]\n",
            " [ 0  0  0  0  1 16]]\n"
          ]
        }
      ]
    },
    {
      "cell_type": "markdown",
      "source": [
        "**Next, we apply the logistic regression model. The accuracy of the model is about 88%.**"
      ],
      "metadata": {
        "id": "vlsjMySXoAGa"
      }
    },
    {
      "cell_type": "markdown",
      "source": [
        "## **Logistic Regression Model**"
      ],
      "metadata": {
        "id": "fJ1-sb_g5ZE9"
      }
    },
    {
      "cell_type": "code",
      "source": [
        "from sklearn.linear_model import LogisticRegression\n",
        "# Create and train the logistic regression model\n",
        "model = LogisticRegression()\n",
        "model.fit(X_train, y_train)\n",
        "\n",
        "# Make predictions on the test data\n",
        "y_pred = model.predict(X_test)\n",
        "\n",
        "# Calculate accuracy\n",
        "accuracy = accuracy_score(y_test, y_pred)\n",
        "print(\"Accuracy:\", accuracy)\n",
        "\n",
        "# Generate a classification report\n",
        "print(\"Classification Report:\")\n",
        "print(classification_report(y_test, y_pred))\n",
        "\n",
        "# Display the confusion matrix\n",
        "print(\"Confusion Matrix:\")\n",
        "print(confusion_matrix(y_test, y_pred))"
      ],
      "metadata": {
        "colab": {
          "base_uri": "https://localhost:8080/"
        },
        "id": "PhdxahXDECwG",
        "outputId": "fc829ce2-7530-4a67-cdbe-fd59f766b3f0"
      },
      "execution_count": null,
      "outputs": [
        {
          "output_type": "stream",
          "name": "stdout",
          "text": [
            "Accuracy: 0.88\n",
            "Classification Report:\n",
            "              precision    recall  f1-score   support\n",
            "\n",
            "           3       1.00      1.00      1.00        12\n",
            "           4       0.73      0.80      0.76        10\n",
            "           5       0.86      0.86      0.86        14\n",
            "           6       0.89      0.80      0.84        10\n",
            "           7       0.83      0.83      0.83        12\n",
            "           8       0.94      0.94      0.94        17\n",
            "\n",
            "    accuracy                           0.88        75\n",
            "   macro avg       0.87      0.87      0.87        75\n",
            "weighted avg       0.88      0.88      0.88        75\n",
            "\n",
            "Confusion Matrix:\n",
            "[[12  0  0  0  0  0]\n",
            " [ 0  8  2  0  0  0]\n",
            " [ 0  1 12  1  0  0]\n",
            " [ 0  1  0  8  1  0]\n",
            " [ 0  1  0  0 10  1]\n",
            " [ 0  0  0  0  1 16]]\n"
          ]
        }
      ]
    },
    {
      "cell_type": "markdown",
      "source": [
        "**Finally we would like to try XGBoost algorithm. We use GrridSerach to optimize the paramters and find the best model possible.**"
      ],
      "metadata": {
        "id": "buNKKaNS3IYh"
      }
    },
    {
      "cell_type": "markdown",
      "source": [
        "## **Using GridSearchCV to find the best XGBoost model**"
      ],
      "metadata": {
        "id": "0qXRl0GzqLpl"
      }
    },
    {
      "cell_type": "code",
      "source": [
        "import seaborn as sns\n",
        "\n",
        "from sklearn.model_selection import GridSearchCV\n",
        "import xgboost as xgb\n",
        "from sklearn.preprocessing import LabelEncoder\n",
        "label_encoder = LabelEncoder()\n",
        "y_encod = label_encoder.fit_transform(y)\n",
        "\n",
        "# Assuming you have your X_train, X_test, y_train, and y_test from your trained data\n",
        "# Split the data into training and testing sets\n",
        "X_train, X_test, y_train, y_test = train_test_split(X, y_encod, test_size=0.2, random_state=42)\n",
        "# Define the XGBoost model\n",
        "xgb_model = xgb.XGBClassifier(objective='multi:softmax', num_class=8)\n",
        "\n",
        "# Define hyperparameters for tuning\n",
        "param_grid = {\n",
        "    'max_depth': [3, 4, 5],\n",
        "    'learning_rate': [0.1, 0.01, 0.001],\n",
        "    'n_estimators': [50, 100, 150],\n",
        "    'subsample': [0.8, 0.9, 1.0],\n",
        "    'colsample_bytree': [0.8, 0.9, 1.0],\n",
        "}\n",
        "\n",
        "# Perform GridSearchCV to find the best hyperparameters\n",
        "grid_search = GridSearchCV(estimator=xgb_model, param_grid=param_grid, cv=3, scoring='accuracy', n_jobs=-1)\n",
        "grid_search.fit(X_train, y_train)\n",
        "\n",
        "# Get the best hyperparameters and the best model\n",
        "best_params = grid_search.best_params_\n",
        "best_model = grid_search.best_estimator_\n",
        "\n",
        "# Make predictions on the test data using the best model\n",
        "y_pred = best_model.predict(X_test)\n",
        "\n",
        "# Calculate accuracy\n",
        "accuracy = accuracy_score(y_test, y_pred)\n",
        "print(\"Accuracy:\", accuracy)\n",
        "\n",
        "# Generate a classification report\n",
        "print(\"Classification Report:\")\n",
        "print(classification_report(y_test, y_pred))\n",
        "\n",
        "# Display the confusion matrix\n",
        "print(\"Confusion Matrix:\")\n",
        "print(confusion_matrix(y_test, y_pred))\n",
        "\n",
        "\n",
        "confusion=confusion_matrix(y_test, y_pred)\n",
        "\n",
        "\n",
        "# Define a color map\n",
        "cmap = sns.light_palette(\"green\", as_cmap=True)\n",
        "\n",
        "# Create a heatmap of the confusion matrix with colors\n",
        "plt.figure(figsize=(8, 6))\n",
        "sns.heatmap(confusion, annot=True, fmt=\"d\", cmap=cmap, linewidths=.5, square=True, cbar=False,\n",
        "            )\n",
        "plt.xlabel(\"Predicted\")\n",
        "plt.ylabel(\"Actual\")\n",
        "plt.show()"
      ],
      "metadata": {
        "colab": {
          "base_uri": "https://localhost:8080/",
          "height": 924
        },
        "id": "AQWJBfECIEbm",
        "outputId": "e2cc151d-2206-4177-e0bb-45a4c4cc077d"
      },
      "execution_count": null,
      "outputs": [
        {
          "output_type": "stream",
          "name": "stdout",
          "text": [
            "Accuracy: 0.9733333333333334\n",
            "Classification Report:\n",
            "              precision    recall  f1-score   support\n",
            "\n",
            "           0       1.00      1.00      1.00        12\n",
            "           1       1.00      1.00      1.00        10\n",
            "           2       1.00      0.93      0.96        14\n",
            "           3       0.90      0.90      0.90        10\n",
            "           4       1.00      1.00      1.00        12\n",
            "           5       0.94      1.00      0.97        17\n",
            "\n",
            "    accuracy                           0.97        75\n",
            "   macro avg       0.97      0.97      0.97        75\n",
            "weighted avg       0.97      0.97      0.97        75\n",
            "\n",
            "Confusion Matrix:\n",
            "[[12  0  0  0  0  0]\n",
            " [ 0 10  0  0  0  0]\n",
            " [ 0  0 13  1  0  0]\n",
            " [ 0  0  0  9  0  1]\n",
            " [ 0  0  0  0 12  0]\n",
            " [ 0  0  0  0  0 17]]\n"
          ]
        },
        {
          "output_type": "display_data",
          "data": {
            "text/plain": [
              "<Figure size 800x600 with 1 Axes>"
            ],
            "image/png": "[encoded data removed]"
          },
          "metadata": {}
        }
      ]
    },
    {
      "cell_type": "markdown",
      "source": [
        "**We see that using XGBoost and GridSearch we get about 97% accuracy! This is much higher acuracy compared to LogisticRegression and SVC models. So we use this model.**"
      ],
      "metadata": {
        "id": "_PYMHwzJ5GrJ"
      }
    },
    {
      "cell_type": "markdown",
      "source": [
        "**Let's look at the best model found by the GrisSearchCV:**"
      ],
      "metadata": {
        "id": "1yMc7Jh95aBE"
      }
    },
    {
      "cell_type": "code",
      "source": [
        "best_model"
      ],
      "metadata": {
        "colab": {
          "base_uri": "https://localhost:8080/",
          "height": 248
        },
        "id": "LvWCOLDR47eN",
        "outputId": "952c4063-3847-487e-cdcd-b2bacc8302f7"
      },
      "execution_count": null,
      "outputs": [
        {
          "output_type": "execute_result",
          "data": {
            "text/plain": [
              "XGBClassifier(base_score=None, booster=None, callbacks=None,\n",
              "              colsample_bylevel=None, colsample_bynode=None,\n",
              "              colsample_bytree=0.8, device=None, early_stopping_rounds=None,\n",
              "              enable_categorical=False, eval_metric=None, feature_types=None,\n",
              "              gamma=None, grow_policy=None, importance_type=None,\n",
              "              interaction_constraints=None, learning_rate=0.1, max_bin=None,\n",
              "              max_cat_threshold=None, max_cat_to_onehot=None,\n",
              "              max_delta_step=None, max_depth=3, max_leaves=None,\n",
              "              min_child_weight=None, missing=nan, monotone_constraints=None,\n",
              "              multi_strategy=None, n_estimators=150, n_jobs=None, num_class=8,\n",
              "              num_parallel_tree=None, ...)"
            ],
            "text/html": [
              "<style>#sk-container-id-1 {color: black;background-color: white;}#sk-container-id-1 pre{padding: 0;}#sk-container-id-1 div.sk-toggleable {background-color: white;}#sk-container-id-1 label.sk-toggleable__label {cursor: pointer;display: block;width: 100%;margin-bottom: 0;padding: 0.3em;box-sizing: border-box;text-align: center;}#sk-container-id-1 label.sk-toggleable__label-arrow:before {content: \"▸\";float: left;margin-right: 0.25em;color: #696969;}#sk-container-id-1 label.sk-toggleable__label-arrow:hover:before {color: black;}#sk-container-id-1 div.sk-estimator:hover label.sk-toggleable__label-arrow:before {color: black;}#sk-container-id-1 div.sk-toggleable__content {max-height: 0;max-width: 0;overflow: hidden;text-align: left;background-color: #f0f8ff;}#sk-container-id-1 div.sk-toggleable__content pre {margin: 0.2em;color: black;border-radius: 0.25em;background-color: #f0f8ff;}#sk-container-id-1 input.sk-toggleable__control:checked~div.sk-toggleable__content {max-height: 200px;max-width: 100%;overflow: auto;}#sk-container-id-1 input.sk-toggleable__control:checked~label.sk-toggleable__label-arrow:before {content: \"▾\";}#sk-container-id-1 div.sk-estimator input.sk-toggleable__control:checked~label.sk-toggleable__label {background-color: #d4ebff;}#sk-container-id-1 div.sk-label input.sk-toggleable__control:checked~label.sk-toggleable__label {background-color: #d4ebff;}#sk-container-id-1 input.sk-hidden--visually {border: 0;clip: rect(1px 1px 1px 1px);clip: rect(1px, 1px, 1px, 1px);height: 1px;margin: -1px;overflow: hidden;padding: 0;position: absolute;width: 1px;}#sk-container-id-1 div.sk-estimator {font-family: monospace;background-color: #f0f8ff;border: 1px dotted black;border-radius: 0.25em;box-sizing: border-box;margin-bottom: 0.5em;}#sk-container-id-1 div.sk-estimator:hover {background-color: #d4ebff;}#sk-container-id-1 div.sk-parallel-item::after {content: \"\";width: 100%;border-bottom: 1px solid gray;flex-grow: 1;}#sk-container-id-1 div.sk-label:hover label.sk-toggleable__label {background-color: #d4ebff;}#sk-container-id-1 div.sk-serial::before {content: \"\";position: absolute;border-left: 1px solid gray;box-sizing: border-box;top: 0;bottom: 0;left: 50%;z-index: 0;}#sk-container-id-1 div.sk-serial {display: flex;flex-direction: column;align-items: center;background-color: white;padding-right: 0.2em;padding-left: 0.2em;position: relative;}#sk-container-id-1 div.sk-item {position: relative;z-index: 1;}#sk-container-id-1 div.sk-parallel {display: flex;align-items: stretch;justify-content: center;background-color: white;position: relative;}#sk-container-id-1 div.sk-item::before, #sk-container-id-1 div.sk-parallel-item::before {content: \"\";position: absolute;border-left: 1px solid gray;box-sizing: border-box;top: 0;bottom: 0;left: 50%;z-index: -1;}#sk-container-id-1 div.sk-parallel-item {display: flex;flex-direction: column;z-index: 1;position: relative;background-color: white;}#sk-container-id-1 div.sk-parallel-item:first-child::after {align-self: flex-end;width: 50%;}#sk-container-id-1 div.sk-parallel-item:last-child::after {align-self: flex-start;width: 50%;}#sk-container-id-1 div.sk-parallel-item:only-child::after {width: 0;}#sk-container-id-1 div.sk-dashed-wrapped {border: 1px dashed gray;margin: 0 0.4em 0.5em 0.4em;box-sizing: border-box;padding-bottom: 0.4em;background-color: white;}#sk-container-id-1 div.sk-label label {font-family: monospace;font-weight: bold;display: inline-block;line-height: 1.2em;}#sk-container-id-1 div.sk-label-container {text-align: center;}#sk-container-id-1 div.sk-container {/* jupyter's `normalize.less` sets `[hidden] { display: none; }` but bootstrap.min.css set `[hidden] { display: none !important; }` so we also need the `!important` here to be able to override the default hidden behavior on the sphinx rendered scikit-learn.org. See: https://github.com/scikit-learn/scikit-learn/issues/21755 */display: inline-block !important;position: relative;}#sk-container-id-1 div.sk-text-repr-fallback {display: none;}</style><div id=\"sk-container-id-1\" class=\"sk-top-container\"><div class=\"sk-text-repr-fallback\"><pre>XGBClassifier(base_score=None, booster=None, callbacks=None,\n",
              "              colsample_bylevel=None, colsample_bynode=None,\n",
              "              colsample_bytree=0.8, device=None, early_stopping_rounds=None,\n",
              "              enable_categorical=False, eval_metric=None, feature_types=None,\n",
              "              gamma=None, grow_policy=None, importance_type=None,\n",
              "              interaction_constraints=None, learning_rate=0.1, max_bin=None,\n",
              "              max_cat_threshold=None, max_cat_to_onehot=None,\n",
              "              max_delta_step=None, max_depth=3, max_leaves=None,\n",
              "              min_child_weight=None, missing=nan, monotone_constraints=None,\n",
              "              multi_strategy=None, n_estimators=150, n_jobs=None, num_class=8,\n",
              "              num_parallel_tree=None, ...)</pre><b>In a Jupyter environment, please rerun this cell to show the HTML representation or trust the notebook. <br />On GitHub, the HTML representation is unable to render, please try loading this page with nbviewer.org.</b></div><div class=\"sk-container\" hidden><div class=\"sk-item\"><div class=\"sk-estimator sk-toggleable\"><input class=\"sk-toggleable__control sk-hidden--visually\" id=\"sk-estimator-id-1\" type=\"checkbox\" checked><label for=\"sk-estimator-id-1\" class=\"sk-toggleable__label sk-toggleable__label-arrow\">XGBClassifier</label><div class=\"sk-toggleable__content\"><pre>XGBClassifier(base_score=None, booster=None, callbacks=None,\n",
              "              colsample_bylevel=None, colsample_bynode=None,\n",
              "              colsample_bytree=0.8, device=None, early_stopping_rounds=None,\n",
              "              enable_categorical=False, eval_metric=None, feature_types=None,\n",
              "              gamma=None, grow_policy=None, importance_type=None,\n",
              "              interaction_constraints=None, learning_rate=0.1, max_bin=None,\n",
              "              max_cat_threshold=None, max_cat_to_onehot=None,\n",
              "              max_delta_step=None, max_depth=3, max_leaves=None,\n",
              "              min_child_weight=None, missing=nan, monotone_constraints=None,\n",
              "              multi_strategy=None, n_estimators=150, n_jobs=None, num_class=8,\n",
              "              num_parallel_tree=None, ...)</pre></div></div></div></div></div>"
            ]
          },
          "metadata": {},
          "execution_count": 37
        }
      ]
    },
    {
      "cell_type": "markdown",
      "source": [
        "**For our model deploymnent, we save this model on a pickle file. We also save the name of the columns in X.**"
      ],
      "metadata": {
        "id": "z0pPcTFZ5qQl"
      }
    },
    {
      "cell_type": "markdown",
      "source": [
        "# **Export the best tested model to a picke file**"
      ],
      "metadata": {
        "id": "R5RHqcEE85IC"
      }
    },
    {
      "cell_type": "code",
      "source": [
        "import pickle\n",
        "with open('classification.pickle','wb') as f:\n",
        "    pickle.dump(best_model,f)"
      ],
      "metadata": {
        "id": "gj_ixJmY52y8"
      },
      "execution_count": null,
      "outputs": []
    },
    {
      "cell_type": "code",
      "source": [
        "import json\n",
        "columns = {\n",
        "    'data_columns' : [col.lower() for col in X.columns]\n",
        "}\n",
        "with open(\"columns.json\",\"w\") as f:\n",
        "    f.write(json.dumps(columns))"
      ],
      "metadata": {
        "id": "4eOHfEoK9F7_"
      },
      "execution_count": null,
      "outputs": []
    },
    {
      "cell_type": "code",
      "source": [
        "d['Quality of Sleep'].value_counts()"
      ],
      "metadata": {
        "id": "Qp2Xvd3k9JbD",
        "colab": {
          "base_uri": "https://localhost:8080/"
        },
        "outputId": "e8cbbd14-a7eb-4537-b5c1-4d85eb129c73"
      },
      "execution_count": null,
      "outputs": [
        {
          "output_type": "execute_result",
          "data": {
            "text/plain": [
              "8    109\n",
              "6    105\n",
              "7     77\n",
              "9     71\n",
              "5      7\n",
              "4      5\n",
              "Name: Quality of Sleep, dtype: int64"
            ]
          },
          "metadata": {},
          "execution_count": 40
        }
      ]
    },
    {
      "cell_type": "code",
      "source": [
        "y.value_counts()"
      ],
      "metadata": {
        "colab": {
          "base_uri": "https://localhost:8080/"
        },
        "id": "Rb9Iy1MJ-H8H",
        "outputId": "9b32f6da-0287-4403-e4c9-e0826d2910e6"
      },
      "execution_count": null,
      "outputs": [
        {
          "output_type": "execute_result",
          "data": {
            "text/plain": [
              "3    71\n",
              "8    70\n",
              "4    70\n",
              "5    67\n",
              "7    50\n",
              "6    46\n",
              "Name: Stress Level, dtype: int64"
            ]
          },
          "metadata": {},
          "execution_count": 49
        }
      ]
    },
    {
      "cell_type": "code",
      "source": [],
      "metadata": {
        "id": "XywkuX25Bb0M"
      },
      "execution_count": null,
      "outputs": []
    }
  ]
}